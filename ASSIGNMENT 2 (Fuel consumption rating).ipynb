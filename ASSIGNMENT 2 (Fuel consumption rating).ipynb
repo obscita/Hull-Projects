{
 "cells": [
  {
   "cell_type": "markdown",
   "id": "90b77c19",
   "metadata": {
    "heading_collapsed": true
   },
   "source": [
    "# Component 2 – Fuel consumption rating  "
   ]
  },
  {
   "cell_type": "code",
   "execution_count": 55,
   "id": "71368795",
   "metadata": {
    "hidden": true
   },
   "outputs": [
    {
     "name": "stdout",
     "output_type": "stream",
     "text": [
      "True\n"
     ]
    },
    {
     "data": {
      "text/plain": [
       "False"
      ]
     },
     "execution_count": 55,
     "metadata": {},
     "output_type": "execute_result"
    }
   ],
   "source": [
    "import pandas as pd\n",
    "df = pd.read_csv(\"Fuel Consumption Ratings.csv\")\n",
    "print(bool(\"False\"))\n",
    "eval(\"False\")"
   ]
  },
  {
   "cell_type": "markdown",
   "id": "a7cf613e",
   "metadata": {
    "heading_collapsed": true
   },
   "source": [
    "# Exploratory data analysis (EDA)"
   ]
  },
  {
   "cell_type": "code",
   "execution_count": 56,
   "id": "47e065e8",
   "metadata": {
    "hidden": true
   },
   "outputs": [],
   "source": [
    "import pandas as pd\n",
    "import numpy as np\n",
    "import seaborn as sns\n",
    "import matplotlib.pyplot as plt"
   ]
  },
  {
   "cell_type": "code",
   "execution_count": 5,
   "id": "83469a26",
   "metadata": {
    "hidden": true
   },
   "outputs": [
    {
     "data": {
      "text/html": [
       "<div>\n",
       "<style scoped>\n",
       "    .dataframe tbody tr th:only-of-type {\n",
       "        vertical-align: middle;\n",
       "    }\n",
       "\n",
       "    .dataframe tbody tr th {\n",
       "        vertical-align: top;\n",
       "    }\n",
       "\n",
       "    .dataframe thead th {\n",
       "        text-align: right;\n",
       "    }\n",
       "</style>\n",
       "<table border=\"1\" class=\"dataframe\">\n",
       "  <thead>\n",
       "    <tr style=\"text-align: right;\">\n",
       "      <th></th>\n",
       "      <th>MODELYEAR</th>\n",
       "      <th>MAKE</th>\n",
       "      <th>MODEL</th>\n",
       "      <th>VEHICLECLASS</th>\n",
       "      <th>ENGINESIZE</th>\n",
       "      <th>CYLINDERS</th>\n",
       "      <th>TRANSMISSION</th>\n",
       "      <th>FUELTYPE</th>\n",
       "      <th>FUELCONSUMPTION_CITY</th>\n",
       "      <th>FUELCONSUMPTION_HWY</th>\n",
       "      <th>FUELCONSUMPTION_COMB</th>\n",
       "      <th>FUELCONSUMPTION_COMB_M</th>\n",
       "      <th>CO2 EMISSIONS</th>\n",
       "    </tr>\n",
       "  </thead>\n",
       "  <tbody>\n",
       "    <tr>\n",
       "      <th>0</th>\n",
       "      <td>2010</td>\n",
       "      <td>ACURA</td>\n",
       "      <td>CSX</td>\n",
       "      <td>COMPACT</td>\n",
       "      <td>2.0</td>\n",
       "      <td>4</td>\n",
       "      <td>AS5</td>\n",
       "      <td>X</td>\n",
       "      <td>10.9</td>\n",
       "      <td>7.8</td>\n",
       "      <td>9.5</td>\n",
       "      <td>30</td>\n",
       "      <td>219</td>\n",
       "    </tr>\n",
       "    <tr>\n",
       "      <th>1</th>\n",
       "      <td>2010</td>\n",
       "      <td>ACURA</td>\n",
       "      <td>CSX</td>\n",
       "      <td>COMPACT</td>\n",
       "      <td>2.0</td>\n",
       "      <td>4</td>\n",
       "      <td>M5</td>\n",
       "      <td>X</td>\n",
       "      <td>10.0</td>\n",
       "      <td>7.6</td>\n",
       "      <td>8.9</td>\n",
       "      <td>32</td>\n",
       "      <td>205</td>\n",
       "    </tr>\n",
       "    <tr>\n",
       "      <th>2</th>\n",
       "      <td>2010</td>\n",
       "      <td>ACURA</td>\n",
       "      <td>CSX</td>\n",
       "      <td>COMPACT</td>\n",
       "      <td>2.0</td>\n",
       "      <td>4</td>\n",
       "      <td>M6</td>\n",
       "      <td>Z</td>\n",
       "      <td>11.6</td>\n",
       "      <td>8.1</td>\n",
       "      <td>10.0</td>\n",
       "      <td>28</td>\n",
       "      <td>230</td>\n",
       "    </tr>\n",
       "    <tr>\n",
       "      <th>3</th>\n",
       "      <td>2010</td>\n",
       "      <td>ACURA</td>\n",
       "      <td>MDX AWD</td>\n",
       "      <td>SUV</td>\n",
       "      <td>3.7</td>\n",
       "      <td>6</td>\n",
       "      <td>AS6</td>\n",
       "      <td>Z</td>\n",
       "      <td>14.8</td>\n",
       "      <td>11.3</td>\n",
       "      <td>13.2</td>\n",
       "      <td>21</td>\n",
       "      <td>304</td>\n",
       "    </tr>\n",
       "    <tr>\n",
       "      <th>4</th>\n",
       "      <td>2010</td>\n",
       "      <td>ACURA</td>\n",
       "      <td>RDX AWD TURBO</td>\n",
       "      <td>SUV</td>\n",
       "      <td>2.3</td>\n",
       "      <td>4</td>\n",
       "      <td>AS5</td>\n",
       "      <td>Z</td>\n",
       "      <td>13.2</td>\n",
       "      <td>10.3</td>\n",
       "      <td>11.9</td>\n",
       "      <td>24</td>\n",
       "      <td>274</td>\n",
       "    </tr>\n",
       "    <tr>\n",
       "      <th>...</th>\n",
       "      <td>...</td>\n",
       "      <td>...</td>\n",
       "      <td>...</td>\n",
       "      <td>...</td>\n",
       "      <td>...</td>\n",
       "      <td>...</td>\n",
       "      <td>...</td>\n",
       "      <td>...</td>\n",
       "      <td>...</td>\n",
       "      <td>...</td>\n",
       "      <td>...</td>\n",
       "      <td>...</td>\n",
       "      <td>...</td>\n",
       "    </tr>\n",
       "    <tr>\n",
       "      <th>5354</th>\n",
       "      <td>2014</td>\n",
       "      <td>VOLVO</td>\n",
       "      <td>XC60 AWD</td>\n",
       "      <td>SUV - SMALL</td>\n",
       "      <td>3.0</td>\n",
       "      <td>6</td>\n",
       "      <td>AS6</td>\n",
       "      <td>X</td>\n",
       "      <td>13.4</td>\n",
       "      <td>9.8</td>\n",
       "      <td>11.8</td>\n",
       "      <td>24</td>\n",
       "      <td>271</td>\n",
       "    </tr>\n",
       "    <tr>\n",
       "      <th>5355</th>\n",
       "      <td>2014</td>\n",
       "      <td>VOLVO</td>\n",
       "      <td>XC60 AWD</td>\n",
       "      <td>SUV - SMALL</td>\n",
       "      <td>3.2</td>\n",
       "      <td>6</td>\n",
       "      <td>AS6</td>\n",
       "      <td>X</td>\n",
       "      <td>13.2</td>\n",
       "      <td>9.5</td>\n",
       "      <td>11.5</td>\n",
       "      <td>25</td>\n",
       "      <td>264</td>\n",
       "    </tr>\n",
       "    <tr>\n",
       "      <th>5356</th>\n",
       "      <td>2014</td>\n",
       "      <td>VOLVO</td>\n",
       "      <td>XC70 AWD</td>\n",
       "      <td>SUV - SMALL</td>\n",
       "      <td>3.0</td>\n",
       "      <td>6</td>\n",
       "      <td>AS6</td>\n",
       "      <td>X</td>\n",
       "      <td>13.4</td>\n",
       "      <td>9.8</td>\n",
       "      <td>11.8</td>\n",
       "      <td>24</td>\n",
       "      <td>271</td>\n",
       "    </tr>\n",
       "    <tr>\n",
       "      <th>5357</th>\n",
       "      <td>2014</td>\n",
       "      <td>VOLVO</td>\n",
       "      <td>XC70 AWD</td>\n",
       "      <td>SUV - SMALL</td>\n",
       "      <td>3.2</td>\n",
       "      <td>6</td>\n",
       "      <td>AS6</td>\n",
       "      <td>X</td>\n",
       "      <td>12.9</td>\n",
       "      <td>9.3</td>\n",
       "      <td>11.3</td>\n",
       "      <td>25</td>\n",
       "      <td>260</td>\n",
       "    </tr>\n",
       "    <tr>\n",
       "      <th>5358</th>\n",
       "      <td>2014</td>\n",
       "      <td>VOLVO</td>\n",
       "      <td>XC90 AWD</td>\n",
       "      <td>SUV - STANDARD</td>\n",
       "      <td>3.2</td>\n",
       "      <td>6</td>\n",
       "      <td>AS6</td>\n",
       "      <td>X</td>\n",
       "      <td>14.9</td>\n",
       "      <td>10.2</td>\n",
       "      <td>12.8</td>\n",
       "      <td>22</td>\n",
       "      <td>294</td>\n",
       "    </tr>\n",
       "  </tbody>\n",
       "</table>\n",
       "<p>5359 rows × 13 columns</p>\n",
       "</div>"
      ],
      "text/plain": [
       "      MODELYEAR   MAKE          MODEL    VEHICLECLASS  ENGINESIZE  CYLINDERS  \\\n",
       "0          2010  ACURA            CSX         COMPACT         2.0          4   \n",
       "1          2010  ACURA            CSX         COMPACT         2.0          4   \n",
       "2          2010  ACURA            CSX         COMPACT         2.0          4   \n",
       "3          2010  ACURA        MDX AWD             SUV         3.7          6   \n",
       "4          2010  ACURA  RDX AWD TURBO             SUV         2.3          4   \n",
       "...         ...    ...            ...             ...         ...        ...   \n",
       "5354       2014  VOLVO       XC60 AWD     SUV - SMALL         3.0          6   \n",
       "5355       2014  VOLVO       XC60 AWD     SUV - SMALL         3.2          6   \n",
       "5356       2014  VOLVO       XC70 AWD     SUV - SMALL         3.0          6   \n",
       "5357       2014  VOLVO       XC70 AWD     SUV - SMALL         3.2          6   \n",
       "5358       2014  VOLVO       XC90 AWD  SUV - STANDARD         3.2          6   \n",
       "\n",
       "     TRANSMISSION FUELTYPE  FUELCONSUMPTION_CITY  FUELCONSUMPTION_HWY  \\\n",
       "0             AS5        X                  10.9                  7.8   \n",
       "1              M5        X                  10.0                  7.6   \n",
       "2              M6        Z                  11.6                  8.1   \n",
       "3             AS6        Z                  14.8                 11.3   \n",
       "4             AS5        Z                  13.2                 10.3   \n",
       "...           ...      ...                   ...                  ...   \n",
       "5354          AS6        X                  13.4                  9.8   \n",
       "5355          AS6        X                  13.2                  9.5   \n",
       "5356          AS6        X                  13.4                  9.8   \n",
       "5357          AS6        X                  12.9                  9.3   \n",
       "5358          AS6        X                  14.9                 10.2   \n",
       "\n",
       "      FUELCONSUMPTION_COMB  FUELCONSUMPTION_COMB_M  CO2 EMISSIONS  \n",
       "0                      9.5                      30            219  \n",
       "1                      8.9                      32            205  \n",
       "2                     10.0                      28            230  \n",
       "3                     13.2                      21            304  \n",
       "4                     11.9                      24            274  \n",
       "...                    ...                     ...            ...  \n",
       "5354                  11.8                      24            271  \n",
       "5355                  11.5                      25            264  \n",
       "5356                  11.8                      24            271  \n",
       "5357                  11.3                      25            260  \n",
       "5358                  12.8                      22            294  \n",
       "\n",
       "[5359 rows x 13 columns]"
      ]
     },
     "execution_count": 5,
     "metadata": {},
     "output_type": "execute_result"
    }
   ],
   "source": [
    "df"
   ]
  },
  {
   "cell_type": "code",
   "execution_count": 6,
   "id": "145781f5",
   "metadata": {
    "hidden": true
   },
   "outputs": [
    {
     "name": "stdout",
     "output_type": "stream",
     "text": [
      "<class 'pandas.core.frame.DataFrame'>\n",
      "RangeIndex: 5359 entries, 0 to 5358\n",
      "Data columns (total 13 columns):\n",
      " #   Column                  Non-Null Count  Dtype  \n",
      "---  ------                  --------------  -----  \n",
      " 0   MODELYEAR               5359 non-null   int64  \n",
      " 1   MAKE                    5359 non-null   object \n",
      " 2   MODEL                   5359 non-null   object \n",
      " 3   VEHICLECLASS            5359 non-null   object \n",
      " 4   ENGINESIZE              5359 non-null   float64\n",
      " 5   CYLINDERS               5359 non-null   int64  \n",
      " 6   TRANSMISSION            5359 non-null   object \n",
      " 7   FUELTYPE                5359 non-null   object \n",
      " 8   FUELCONSUMPTION_CITY    5359 non-null   float64\n",
      " 9   FUELCONSUMPTION_HWY     5359 non-null   float64\n",
      " 10  FUELCONSUMPTION_COMB    5359 non-null   float64\n",
      " 11  FUELCONSUMPTION_COMB_M  5359 non-null   int64  \n",
      " 12  CO2 EMISSIONS           5359 non-null   int64  \n",
      "dtypes: float64(4), int64(4), object(5)\n",
      "memory usage: 544.4+ KB\n"
     ]
    }
   ],
   "source": [
    "# display information about the dataframe\n",
    "df.info()"
   ]
  },
  {
   "cell_type": "code",
   "execution_count": 7,
   "id": "7e854cde",
   "metadata": {
    "hidden": true
   },
   "outputs": [
    {
     "name": "stdout",
     "output_type": "stream",
     "text": [
      "MODELYEAR                   int64\n",
      "MAKE                       object\n",
      "MODEL                      object\n",
      "VEHICLECLASS               object\n",
      "ENGINESIZE                float64\n",
      "CYLINDERS                   int64\n",
      "TRANSMISSION               object\n",
      "FUELTYPE                   object\n",
      "FUELCONSUMPTION_CITY      float64\n",
      "FUELCONSUMPTION_HWY       float64\n",
      "FUELCONSUMPTION_COMB      float64\n",
      "FUELCONSUMPTION_COMB_M      int64\n",
      "CO2 EMISSIONS               int64\n",
      "dtype: object\n"
     ]
    }
   ],
   "source": [
    "# inspect the data types of each column\n",
    "print(df.dtypes)"
   ]
  },
  {
   "cell_type": "code",
   "execution_count": 8,
   "id": "a3a4cacb",
   "metadata": {
    "hidden": true
   },
   "outputs": [],
   "source": [
    "# remove any rows with missing or invalid data\n",
    "df = df.dropna()"
   ]
  },
  {
   "cell_type": "code",
   "execution_count": 9,
   "id": "201522bf",
   "metadata": {
    "hidden": true
   },
   "outputs": [
    {
     "data": {
      "text/plain": [
       "MODELYEAR                 0\n",
       "MAKE                      0\n",
       "MODEL                     0\n",
       "VEHICLECLASS              0\n",
       "ENGINESIZE                0\n",
       "CYLINDERS                 0\n",
       "TRANSMISSION              0\n",
       "FUELTYPE                  0\n",
       "FUELCONSUMPTION_CITY      0\n",
       "FUELCONSUMPTION_HWY       0\n",
       "FUELCONSUMPTION_COMB      0\n",
       "FUELCONSUMPTION_COMB_M    0\n",
       "CO2 EMISSIONS             0\n",
       "dtype: int64"
      ]
     },
     "execution_count": 9,
     "metadata": {},
     "output_type": "execute_result"
    }
   ],
   "source": [
    "df.isna().sum() #checking for null values "
   ]
  },
  {
   "cell_type": "code",
   "execution_count": 10,
   "id": "263a9765",
   "metadata": {
    "hidden": true
   },
   "outputs": [
    {
     "data": {
      "text/plain": [
       "array([[<AxesSubplot:title={'center':'MODELYEAR'}>,\n",
       "        <AxesSubplot:title={'center':'ENGINESIZE'}>,\n",
       "        <AxesSubplot:title={'center':'CYLINDERS'}>],\n",
       "       [<AxesSubplot:title={'center':'FUELCONSUMPTION_CITY'}>,\n",
       "        <AxesSubplot:title={'center':'FUELCONSUMPTION_HWY'}>,\n",
       "        <AxesSubplot:title={'center':'FUELCONSUMPTION_COMB'}>],\n",
       "       [<AxesSubplot:title={'center':'FUELCONSUMPTION_COMB_M'}>,\n",
       "        <AxesSubplot:title={'center':'CO2 EMISSIONS'}>, <AxesSubplot:>]],\n",
       "      dtype=object)"
      ]
     },
     "execution_count": 10,
     "metadata": {},
     "output_type": "execute_result"
    },
    {
     "data": {
      "image/png": "[encoded data removed]",
      "text/plain": [
       "<Figure size 1440x1080 with 9 Axes>"
      ]
     },
     "metadata": {
      "needs_background": "light"
     },
     "output_type": "display_data"
    }
   ],
   "source": [
    "#plt.figure(dpi=200)\n",
    "df.hist(figsize = (20,15))\n",
    "#plt.show()"
   ]
  },
  {
   "cell_type": "code",
   "execution_count": 11,
   "id": "74e3143f",
   "metadata": {
    "hidden": true
   },
   "outputs": [
    {
     "data": {
      "text/html": [
       "<div>\n",
       "<style scoped>\n",
       "    .dataframe tbody tr th:only-of-type {\n",
       "        vertical-align: middle;\n",
       "    }\n",
       "\n",
       "    .dataframe tbody tr th {\n",
       "        vertical-align: top;\n",
       "    }\n",
       "\n",
       "    .dataframe thead th {\n",
       "        text-align: right;\n",
       "    }\n",
       "</style>\n",
       "<table border=\"1\" class=\"dataframe\">\n",
       "  <thead>\n",
       "    <tr style=\"text-align: right;\">\n",
       "      <th></th>\n",
       "      <th>count</th>\n",
       "      <th>mean</th>\n",
       "      <th>std</th>\n",
       "      <th>min</th>\n",
       "      <th>25%</th>\n",
       "      <th>50%</th>\n",
       "      <th>75%</th>\n",
       "      <th>max</th>\n",
       "    </tr>\n",
       "  </thead>\n",
       "  <tbody>\n",
       "    <tr>\n",
       "      <th>MODELYEAR</th>\n",
       "      <td>5359.0</td>\n",
       "      <td>2012.014742</td>\n",
       "      <td>1.404536</td>\n",
       "      <td>2010.0</td>\n",
       "      <td>2011.0</td>\n",
       "      <td>2012.0</td>\n",
       "      <td>2013.0</td>\n",
       "      <td>2014.0</td>\n",
       "    </tr>\n",
       "    <tr>\n",
       "      <th>ENGINESIZE</th>\n",
       "      <td>5359.0</td>\n",
       "      <td>3.491901</td>\n",
       "      <td>1.390957</td>\n",
       "      <td>1.0</td>\n",
       "      <td>2.4</td>\n",
       "      <td>3.5</td>\n",
       "      <td>4.6</td>\n",
       "      <td>8.4</td>\n",
       "    </tr>\n",
       "    <tr>\n",
       "      <th>CYLINDERS</th>\n",
       "      <td>5359.0</td>\n",
       "      <td>5.962120</td>\n",
       "      <td>1.872838</td>\n",
       "      <td>2.0</td>\n",
       "      <td>4.0</td>\n",
       "      <td>6.0</td>\n",
       "      <td>8.0</td>\n",
       "      <td>16.0</td>\n",
       "    </tr>\n",
       "    <tr>\n",
       "      <th>FUELCONSUMPTION_CITY</th>\n",
       "      <td>5359.0</td>\n",
       "      <td>13.902650</td>\n",
       "      <td>4.162894</td>\n",
       "      <td>4.5</td>\n",
       "      <td>11.0</td>\n",
       "      <td>13.2</td>\n",
       "      <td>16.0</td>\n",
       "      <td>30.4</td>\n",
       "    </tr>\n",
       "    <tr>\n",
       "      <th>FUELCONSUMPTION_HWY</th>\n",
       "      <td>5359.0</td>\n",
       "      <td>9.932208</td>\n",
       "      <td>2.807196</td>\n",
       "      <td>4.9</td>\n",
       "      <td>8.0</td>\n",
       "      <td>9.3</td>\n",
       "      <td>11.2</td>\n",
       "      <td>20.8</td>\n",
       "    </tr>\n",
       "    <tr>\n",
       "      <th>FUELCONSUMPTION_COMB</th>\n",
       "      <td>5359.0</td>\n",
       "      <td>12.116328</td>\n",
       "      <td>3.524127</td>\n",
       "      <td>4.7</td>\n",
       "      <td>9.7</td>\n",
       "      <td>11.4</td>\n",
       "      <td>13.9</td>\n",
       "      <td>26.0</td>\n",
       "    </tr>\n",
       "    <tr>\n",
       "      <th>FUELCONSUMPTION_COMB_M</th>\n",
       "      <td>5359.0</td>\n",
       "      <td>25.168875</td>\n",
       "      <td>6.956407</td>\n",
       "      <td>11.0</td>\n",
       "      <td>20.0</td>\n",
       "      <td>25.0</td>\n",
       "      <td>29.0</td>\n",
       "      <td>60.0</td>\n",
       "    </tr>\n",
       "    <tr>\n",
       "      <th>CO2 EMISSIONS</th>\n",
       "      <td>5359.0</td>\n",
       "      <td>267.660198</td>\n",
       "      <td>64.317040</td>\n",
       "      <td>108.0</td>\n",
       "      <td>221.0</td>\n",
       "      <td>260.0</td>\n",
       "      <td>305.0</td>\n",
       "      <td>566.0</td>\n",
       "    </tr>\n",
       "  </tbody>\n",
       "</table>\n",
       "</div>"
      ],
      "text/plain": [
       "                         count         mean        std     min     25%  \\\n",
       "MODELYEAR               5359.0  2012.014742   1.404536  2010.0  2011.0   \n",
       "ENGINESIZE              5359.0     3.491901   1.390957     1.0     2.4   \n",
       "CYLINDERS               5359.0     5.962120   1.872838     2.0     4.0   \n",
       "FUELCONSUMPTION_CITY    5359.0    13.902650   4.162894     4.5    11.0   \n",
       "FUELCONSUMPTION_HWY     5359.0     9.932208   2.807196     4.9     8.0   \n",
       "FUELCONSUMPTION_COMB    5359.0    12.116328   3.524127     4.7     9.7   \n",
       "FUELCONSUMPTION_COMB_M  5359.0    25.168875   6.956407    11.0    20.0   \n",
       "CO2 EMISSIONS           5359.0   267.660198  64.317040   108.0   221.0   \n",
       "\n",
       "                           50%     75%     max  \n",
       "MODELYEAR               2012.0  2013.0  2014.0  \n",
       "ENGINESIZE                 3.5     4.6     8.4  \n",
       "CYLINDERS                  6.0     8.0    16.0  \n",
       "FUELCONSUMPTION_CITY      13.2    16.0    30.4  \n",
       "FUELCONSUMPTION_HWY        9.3    11.2    20.8  \n",
       "FUELCONSUMPTION_COMB      11.4    13.9    26.0  \n",
       "FUELCONSUMPTION_COMB_M    25.0    29.0    60.0  \n",
       "CO2 EMISSIONS            260.0   305.0   566.0  "
      ]
     },
     "execution_count": 11,
     "metadata": {},
     "output_type": "execute_result"
    }
   ],
   "source": [
    "df.describe().transpose() # printing the basic statistics of the dataset "
   ]
  },
  {
   "cell_type": "code",
   "execution_count": 12,
   "id": "515f0c26",
   "metadata": {
    "hidden": true
   },
   "outputs": [
    {
     "data": {
      "text/html": [
       "<div>\n",
       "<style scoped>\n",
       "    .dataframe tbody tr th:only-of-type {\n",
       "        vertical-align: middle;\n",
       "    }\n",
       "\n",
       "    .dataframe tbody tr th {\n",
       "        vertical-align: top;\n",
       "    }\n",
       "\n",
       "    .dataframe thead th {\n",
       "        text-align: right;\n",
       "    }\n",
       "</style>\n",
       "<table border=\"1\" class=\"dataframe\">\n",
       "  <thead>\n",
       "    <tr style=\"text-align: right;\">\n",
       "      <th></th>\n",
       "      <th>MODELYEAR</th>\n",
       "      <th>ENGINESIZE</th>\n",
       "      <th>CYLINDERS</th>\n",
       "      <th>FUELCONSUMPTION_CITY</th>\n",
       "      <th>FUELCONSUMPTION_HWY</th>\n",
       "      <th>FUELCONSUMPTION_COMB</th>\n",
       "      <th>FUELCONSUMPTION_COMB_M</th>\n",
       "      <th>CO2 EMISSIONS</th>\n",
       "    </tr>\n",
       "  </thead>\n",
       "  <tbody>\n",
       "    <tr>\n",
       "      <th>MODELYEAR</th>\n",
       "      <td>1.000000</td>\n",
       "      <td>-0.059026</td>\n",
       "      <td>-0.056762</td>\n",
       "      <td>-0.089863</td>\n",
       "      <td>-0.101831</td>\n",
       "      <td>-0.094261</td>\n",
       "      <td>0.125379</td>\n",
       "      <td>-0.126525</td>\n",
       "    </tr>\n",
       "    <tr>\n",
       "      <th>ENGINESIZE</th>\n",
       "      <td>-0.059026</td>\n",
       "      <td>1.000000</td>\n",
       "      <td>0.917291</td>\n",
       "      <td>0.815753</td>\n",
       "      <td>0.771050</td>\n",
       "      <td>0.806126</td>\n",
       "      <td>-0.803472</td>\n",
       "      <td>0.857052</td>\n",
       "    </tr>\n",
       "    <tr>\n",
       "      <th>CYLINDERS</th>\n",
       "      <td>-0.056762</td>\n",
       "      <td>0.917291</td>\n",
       "      <td>1.000000</td>\n",
       "      <td>0.784184</td>\n",
       "      <td>0.716811</td>\n",
       "      <td>0.766065</td>\n",
       "      <td>-0.754037</td>\n",
       "      <td>0.840469</td>\n",
       "    </tr>\n",
       "    <tr>\n",
       "      <th>FUELCONSUMPTION_CITY</th>\n",
       "      <td>-0.089863</td>\n",
       "      <td>0.815753</td>\n",
       "      <td>0.784184</td>\n",
       "      <td>1.000000</td>\n",
       "      <td>0.965417</td>\n",
       "      <td>0.995566</td>\n",
       "      <td>-0.932240</td>\n",
       "      <td>0.891427</td>\n",
       "    </tr>\n",
       "    <tr>\n",
       "      <th>FUELCONSUMPTION_HWY</th>\n",
       "      <td>-0.101831</td>\n",
       "      <td>0.771050</td>\n",
       "      <td>0.716811</td>\n",
       "      <td>0.965417</td>\n",
       "      <td>1.000000</td>\n",
       "      <td>0.985518</td>\n",
       "      <td>-0.895407</td>\n",
       "      <td>0.855552</td>\n",
       "    </tr>\n",
       "    <tr>\n",
       "      <th>FUELCONSUMPTION_COMB</th>\n",
       "      <td>-0.094261</td>\n",
       "      <td>0.806126</td>\n",
       "      <td>0.766065</td>\n",
       "      <td>0.995566</td>\n",
       "      <td>0.985518</td>\n",
       "      <td>1.000000</td>\n",
       "      <td>-0.926282</td>\n",
       "      <td>0.885359</td>\n",
       "    </tr>\n",
       "    <tr>\n",
       "      <th>FUELCONSUMPTION_COMB_M</th>\n",
       "      <td>0.125379</td>\n",
       "      <td>-0.803472</td>\n",
       "      <td>-0.754037</td>\n",
       "      <td>-0.932240</td>\n",
       "      <td>-0.895407</td>\n",
       "      <td>-0.926282</td>\n",
       "      <td>1.000000</td>\n",
       "      <td>-0.897255</td>\n",
       "    </tr>\n",
       "    <tr>\n",
       "      <th>CO2 EMISSIONS</th>\n",
       "      <td>-0.126525</td>\n",
       "      <td>0.857052</td>\n",
       "      <td>0.840469</td>\n",
       "      <td>0.891427</td>\n",
       "      <td>0.855552</td>\n",
       "      <td>0.885359</td>\n",
       "      <td>-0.897255</td>\n",
       "      <td>1.000000</td>\n",
       "    </tr>\n",
       "  </tbody>\n",
       "</table>\n",
       "</div>"
      ],
      "text/plain": [
       "                        MODELYEAR  ENGINESIZE  CYLINDERS  \\\n",
       "MODELYEAR                1.000000   -0.059026  -0.056762   \n",
       "ENGINESIZE              -0.059026    1.000000   0.917291   \n",
       "CYLINDERS               -0.056762    0.917291   1.000000   \n",
       "FUELCONSUMPTION_CITY    -0.089863    0.815753   0.784184   \n",
       "FUELCONSUMPTION_HWY     -0.101831    0.771050   0.716811   \n",
       "FUELCONSUMPTION_COMB    -0.094261    0.806126   0.766065   \n",
       "FUELCONSUMPTION_COMB_M   0.125379   -0.803472  -0.754037   \n",
       "CO2 EMISSIONS           -0.126525    0.857052   0.840469   \n",
       "\n",
       "                        FUELCONSUMPTION_CITY  FUELCONSUMPTION_HWY  \\\n",
       "MODELYEAR                          -0.089863            -0.101831   \n",
       "ENGINESIZE                          0.815753             0.771050   \n",
       "CYLINDERS                           0.784184             0.716811   \n",
       "FUELCONSUMPTION_CITY                1.000000             0.965417   \n",
       "FUELCONSUMPTION_HWY                 0.965417             1.000000   \n",
       "FUELCONSUMPTION_COMB                0.995566             0.985518   \n",
       "FUELCONSUMPTION_COMB_M             -0.932240            -0.895407   \n",
       "CO2 EMISSIONS                       0.891427             0.855552   \n",
       "\n",
       "                        FUELCONSUMPTION_COMB  FUELCONSUMPTION_COMB_M  \\\n",
       "MODELYEAR                          -0.094261                0.125379   \n",
       "ENGINESIZE                          0.806126               -0.803472   \n",
       "CYLINDERS                           0.766065               -0.754037   \n",
       "FUELCONSUMPTION_CITY                0.995566               -0.932240   \n",
       "FUELCONSUMPTION_HWY                 0.985518               -0.895407   \n",
       "FUELCONSUMPTION_COMB                1.000000               -0.926282   \n",
       "FUELCONSUMPTION_COMB_M             -0.926282                1.000000   \n",
       "CO2 EMISSIONS                       0.885359               -0.897255   \n",
       "\n",
       "                        CO2 EMISSIONS  \n",
       "MODELYEAR                   -0.126525  \n",
       "ENGINESIZE                   0.857052  \n",
       "CYLINDERS                    0.840469  \n",
       "FUELCONSUMPTION_CITY         0.891427  \n",
       "FUELCONSUMPTION_HWY          0.855552  \n",
       "FUELCONSUMPTION_COMB         0.885359  \n",
       "FUELCONSUMPTION_COMB_M      -0.897255  \n",
       "CO2 EMISSIONS                1.000000  "
      ]
     },
     "execution_count": 12,
     "metadata": {},
     "output_type": "execute_result"
    }
   ],
   "source": [
    "#df.drop(\"MODEL YEAR\",axis=1,inplace=True)# dropping model year cause it only contains one repeated value\n",
    "df.corr()"
   ]
  },
  {
   "cell_type": "markdown",
   "id": "f85cc2fd",
   "metadata": {
    "heading_collapsed": true
   },
   "source": [
    "# 2a: Using the numerical continuous variables in dataset to build a model to predict the CO2 emission"
   ]
  },
  {
   "cell_type": "code",
   "execution_count": 3,
   "id": "5e66d115",
   "metadata": {
    "hidden": true
   },
   "outputs": [],
   "source": [
    "import sklearn\n",
    "from sklearn.datasets import make_circles\n",
    "from sklearn.metrics import accuracy_score\n",
    "from sklearn.metrics import precision_score\n",
    "from sklearn.metrics import recall_score\n",
    "from sklearn.metrics import f1_score\n",
    "from sklearn.metrics import cohen_kappa_score\n",
    "from sklearn.metrics import roc_auc_score\n",
    "from sklearn.metrics import confusion_matrix\n",
    "from sklearn.model_selection import train_test_split \n",
    "from sklearn.preprocessing import MinMaxScaler \n",
    "from keras.models import Sequential # The model class is sequentially arranged\n",
    "from keras.layers import Dense, Dropout #Dense indicates fully connected networks\n",
    "from keras.losses import mean_squared_error #loss\n",
    "from keras.metrics import mean_squared_error #Evaluate metrics\n",
    "from sklearn.metrics import r2_score"
   ]
  },
  {
   "cell_type": "markdown",
   "id": "9d6cfa5f",
   "metadata": {
    "hidden": true
   },
   "source": [
    "The numerical continuous variable within the data set was identified which are FUELCONSUMPTION_CITY, FUELCONSUMPTION_HWY, FUELCONSUMPTION_COMB, FUELCONSUMPTION_COMB_M and CO2 EMISSIONS.\n",
    "\n",
    "The predictor variable includes : FUELCONSUMPTION_HWY, FUELCONSUMPTION_COMB, FUELCONSUMPTION_COMB_ while the target variable is CO2 EMISSIONS."
   ]
  },
  {
   "cell_type": "code",
   "execution_count": 14,
   "id": "a6a82dff",
   "metadata": {
    "hidden": true
   },
   "outputs": [
    {
     "name": "stdout",
     "output_type": "stream",
     "text": [
      "   FUELCONSUMPTION_CITY  FUELCONSUMPTION_HWY  FUELCONSUMPTION_COMB  \\\n",
      "0                  10.9                  7.8                   9.5   \n",
      "1                  10.0                  7.6                   8.9   \n",
      "2                  11.6                  8.1                  10.0   \n",
      "3                  14.8                 11.3                  13.2   \n",
      "4                  13.2                 10.3                  11.9   \n",
      "\n",
      "   FUELCONSUMPTION_COMB_M  \n",
      "0                      30  \n",
      "1                      32  \n",
      "2                      28  \n",
      "3                      21  \n",
      "4                      24  \n",
      "0    219\n",
      "1    205\n",
      "2    230\n",
      "3    304\n",
      "4    274\n",
      "Name: CO2 EMISSIONS, dtype: int64\n"
     ]
    }
   ],
   "source": [
    "# Assigning x and y variables for training\n",
    "# y=w1x + W0 where w1= slope and w0= y intercept\n",
    "#hw(x)=w1x+w0\n",
    "x=df[[\"FUELCONSUMPTION_CITY\",\"FUELCONSUMPTION_HWY\",\"FUELCONSUMPTION_COMB\",\"FUELCONSUMPTION_COMB_M\"]] #predictor variables\n",
    "y=df[\"CO2 EMISSIONS\"]#predictor variable\n",
    "print(x.head())\n",
    "print(y.head())"
   ]
  },
  {
   "cell_type": "code",
   "execution_count": 18,
   "id": "3a4efbc1",
   "metadata": {
    "hidden": true
   },
   "outputs": [],
   "source": [
    "#subsets part of the data test for training and testing randomnly\n",
    "x_train, x_test, y_train,y_test = train_test_split(x,y,test_size=0.2,random_state=42)"
   ]
  },
  {
   "cell_type": "code",
   "execution_count": 19,
   "id": "21bdec00",
   "metadata": {
    "hidden": true
   },
   "outputs": [],
   "source": [
    "#scales variable for learning to fractions between 0 and 1\n",
    "scaler = MinMaxScaler()\n",
    "x_train=scaler.fit_transform(x_train)\n",
    "x_test=scaler.fit_transform(x_test)"
   ]
  },
  {
   "cell_type": "markdown",
   "id": "4a6f195d",
   "metadata": {
    "hidden": true
   },
   "source": [
    "**Building a simple model----Constructor stage**"
   ]
  },
  {
   "cell_type": "code",
   "execution_count": 21,
   "id": "363ad2cf",
   "metadata": {
    "hidden": true
   },
   "outputs": [
    {
     "data": {
      "text/plain": [
       "(4287, 4)"
      ]
     },
     "execution_count": 21,
     "metadata": {},
     "output_type": "execute_result"
    }
   ],
   "source": [
    "x_train.shape"
   ]
  },
  {
   "cell_type": "code",
   "execution_count": 22,
   "id": "9c0bb6db",
   "metadata": {
    "hidden": true
   },
   "outputs": [],
   "source": [
    "# instantiating the model \n",
    "model = Sequential() \n",
    "model.add(Dense(units=64,input_dim=(4), activation = 'relu')) \n",
    "model.add(Dropout(0.2)) \n",
    "model.add(Dense(units=64,activation='relu')) \n",
    "model.add(Dense(units=1,activation = 'linear')) "
   ]
  },
  {
   "cell_type": "code",
   "execution_count": 23,
   "id": "3dded016",
   "metadata": {
    "hidden": true
   },
   "outputs": [
    {
     "name": "stdout",
     "output_type": "stream",
     "text": [
      "Model: \"sequential_1\"\n",
      "_________________________________________________________________\n",
      " Layer (type)                Output Shape              Param #   \n",
      "=================================================================\n",
      " dense_3 (Dense)             (None, 64)                320       \n",
      "                                                                 \n",
      " dropout_1 (Dropout)         (None, 64)                0         \n",
      "                                                                 \n",
      " dense_4 (Dense)             (None, 64)                4160      \n",
      "                                                                 \n",
      " dense_5 (Dense)             (None, 1)                 65        \n",
      "                                                                 \n",
      "=================================================================\n",
      "Total params: 4,545\n",
      "Trainable params: 4,545\n",
      "Non-trainable params: 0\n",
      "_________________________________________________________________\n"
     ]
    }
   ],
   "source": [
    "# Printing the summary of my model \n",
    "model.summary() "
   ]
  },
  {
   "cell_type": "markdown",
   "id": "7f9cbfd8",
   "metadata": {
    "hidden": true
   },
   "source": [
    "**Compilation stage**"
   ]
  },
  {
   "cell_type": "code",
   "execution_count": 24,
   "id": "63f60597",
   "metadata": {
    "hidden": true
   },
   "outputs": [],
   "source": [
    "model.compile(optimizer='adam', loss='mean_squared_error', metrics='mean_squared_error') "
   ]
  },
  {
   "cell_type": "markdown",
   "id": "8dd53233",
   "metadata": {
    "hidden": true
   },
   "source": [
    "**Trainning Stage**"
   ]
  },
  {
   "cell_type": "code",
   "execution_count": 25,
   "id": "64647718",
   "metadata": {
    "hidden": true
   },
   "outputs": [
    {
     "name": "stdout",
     "output_type": "stream",
     "text": [
      "Epoch 1/20\n",
      "121/121 [==============================] - 1s 2ms/step - loss: 72269.8672 - mean_squared_error: 72269.8672 - val_loss: 59767.9609 - val_mean_squared_error: 59767.9609\n",
      "Epoch 2/20\n",
      "121/121 [==============================] - 0s 1ms/step - loss: 33579.0742 - mean_squared_error: 33579.0742 - val_loss: 6210.6211 - val_mean_squared_error: 6210.6211\n",
      "Epoch 3/20\n",
      "121/121 [==============================] - 0s 1ms/step - loss: 2469.3042 - mean_squared_error: 2469.3042 - val_loss: 1305.6331 - val_mean_squared_error: 1305.6331\n",
      "Epoch 4/20\n",
      "121/121 [==============================] - 0s 1ms/step - loss: 1643.6986 - mean_squared_error: 1643.6986 - val_loss: 1173.1174 - val_mean_squared_error: 1173.1174\n",
      "Epoch 5/20\n",
      "121/121 [==============================] - 0s 1ms/step - loss: 1557.8831 - mean_squared_error: 1557.8831 - val_loss: 1062.9595 - val_mean_squared_error: 1062.9595\n",
      "Epoch 6/20\n",
      "121/121 [==============================] - 0s 1ms/step - loss: 1447.3359 - mean_squared_error: 1447.3359 - val_loss: 992.5794 - val_mean_squared_error: 992.5794\n",
      "Epoch 7/20\n",
      "121/121 [==============================] - 0s 1ms/step - loss: 1477.7820 - mean_squared_error: 1477.7820 - val_loss: 938.2466 - val_mean_squared_error: 938.2466\n",
      "Epoch 8/20\n",
      "121/121 [==============================] - 0s 1ms/step - loss: 1487.5848 - mean_squared_error: 1487.5848 - val_loss: 904.7874 - val_mean_squared_error: 904.7874\n",
      "Epoch 9/20\n",
      "121/121 [==============================] - 0s 1ms/step - loss: 1405.3971 - mean_squared_error: 1405.3971 - val_loss: 874.1346 - val_mean_squared_error: 874.1346\n",
      "Epoch 10/20\n",
      "121/121 [==============================] - 0s 1ms/step - loss: 1407.9083 - mean_squared_error: 1407.9083 - val_loss: 861.1713 - val_mean_squared_error: 861.1713\n",
      "Epoch 11/20\n",
      "121/121 [==============================] - 0s 1ms/step - loss: 1356.8136 - mean_squared_error: 1356.8136 - val_loss: 840.0980 - val_mean_squared_error: 840.0980\n",
      "Epoch 12/20\n",
      "121/121 [==============================] - 0s 1ms/step - loss: 1380.8214 - mean_squared_error: 1380.8214 - val_loss: 833.6065 - val_mean_squared_error: 833.6065\n",
      "Epoch 13/20\n",
      "121/121 [==============================] - 0s 989us/step - loss: 1421.3350 - mean_squared_error: 1421.3350 - val_loss: 840.6411 - val_mean_squared_error: 840.6411\n",
      "Epoch 14/20\n",
      "121/121 [==============================] - 0s 2ms/step - loss: 1364.5798 - mean_squared_error: 1364.5798 - val_loss: 818.8459 - val_mean_squared_error: 818.8459\n",
      "Epoch 15/20\n",
      "121/121 [==============================] - 0s 1ms/step - loss: 1331.5563 - mean_squared_error: 1331.5563 - val_loss: 794.3309 - val_mean_squared_error: 794.3309\n",
      "Epoch 16/20\n",
      "121/121 [==============================] - 0s 986us/step - loss: 1396.4369 - mean_squared_error: 1396.4369 - val_loss: 797.3291 - val_mean_squared_error: 797.3291\n",
      "Epoch 17/20\n",
      "121/121 [==============================] - 0s 990us/step - loss: 1353.8683 - mean_squared_error: 1353.8683 - val_loss: 779.8115 - val_mean_squared_error: 779.8115\n",
      "Epoch 18/20\n",
      "121/121 [==============================] - 0s 1ms/step - loss: 1353.0143 - mean_squared_error: 1353.0143 - val_loss: 771.5405 - val_mean_squared_error: 771.5405\n",
      "Epoch 19/20\n",
      "121/121 [==============================] - 0s 1ms/step - loss: 1306.5675 - mean_squared_error: 1306.5675 - val_loss: 802.6161 - val_mean_squared_error: 802.6161\n",
      "Epoch 20/20\n",
      "121/121 [==============================] - 0s 1ms/step - loss: 1302.5887 - mean_squared_error: 1302.5887 - val_loss: 766.7441 - val_mean_squared_error: 766.7441\n"
     ]
    }
   ],
   "source": [
    "# Assigning to history to plot the loss  \n",
    "from keras.callbacks import EarlyStopping # imported EarlyStopping \n",
    "early_stopping = EarlyStopping(monitor='val_loss',patience=20) # added early stopping with patience = 20 \n",
    "history=model.fit(x=x_train,y=y_train, batch_size=None, epochs=20, verbose='auto', validation_split=0.1,callbacks=[early_stopping]) "
   ]
  },
  {
   "cell_type": "markdown",
   "id": "a3afb96d",
   "metadata": {
    "hidden": true
   },
   "source": [
    "**EVALUATION**"
   ]
  },
  {
   "cell_type": "code",
   "execution_count": 26,
   "id": "958b2187",
   "metadata": {
    "hidden": true
   },
   "outputs": [
    {
     "data": {
      "image/png": "[encoded data removed]",
      "text/plain": [
       "<Figure size 400x600 with 1 Axes>"
      ]
     },
     "metadata": {
      "needs_background": "light"
     },
     "output_type": "display_data"
    }
   ],
   "source": [
    "## checking for overfitting  \n",
    "history_df = pd.DataFrame(history.history) \n",
    "plt.figure(figsize = (2,3),dpi=200) \n",
    "plt.plot(history_df['loss'], label='training_loss') \n",
    "plt.plot(history_df['val_loss'], label='val_loss') \n",
    "plt.legend() \n",
    "plt.show()"
   ]
  },
  {
   "cell_type": "code",
   "execution_count": 27,
   "id": "e690a572",
   "metadata": {
    "hidden": true
   },
   "outputs": [],
   "source": [
    "#THIS INDICATES THAT THE MODEL DOES NOT OVERFIT"
   ]
  },
  {
   "cell_type": "code",
   "execution_count": 35,
   "id": "c8abad83",
   "metadata": {
    "hidden": true
   },
   "outputs": [
    {
     "name": "stdout",
     "output_type": "stream",
     "text": [
      "34/34 [==============================] - 0s 470us/step - loss: 868.4233 - mean_squared_error: 868.4233\n"
     ]
    }
   ],
   "source": [
    "## Evaluation on the test data \n",
    "test_loss, test_acc = model.evaluate(x_test,y_test)"
   ]
  },
  {
   "cell_type": "code",
   "execution_count": 36,
   "id": "f0294f1b",
   "metadata": {
    "hidden": true
   },
   "outputs": [
    {
     "name": "stdout",
     "output_type": "stream",
     "text": [
      "Test loss: 868.42333984375\n",
      "Test accuracy: 868.42333984375\n"
     ]
    }
   ],
   "source": [
    "# Print the test loss and accuracy\n",
    "print('Test loss:', test_loss)\n",
    "print('Test accuracy:', test_acc)"
   ]
  },
  {
   "cell_type": "code",
   "execution_count": 45,
   "id": "ba615216",
   "metadata": {
    "hidden": true
   },
   "outputs": [
    {
     "name": "stdout",
     "output_type": "stream",
     "text": [
      "34/34 [==============================] - 0s 374us/step\n"
     ]
    }
   ],
   "source": [
    "# Make predictions on the data\n",
    "y_pred = predictions = model.predict(x_test)"
   ]
  },
  {
   "cell_type": "code",
   "execution_count": 46,
   "id": "a8b214e3",
   "metadata": {
    "hidden": true
   },
   "outputs": [
    {
     "name": "stdout",
     "output_type": "stream",
     "text": [
      "tf.Tensor([7652.8247 4125.522  4800.519  ... 4145.1606 5668.485  4538.1123], shape=(1072,), dtype=float32)\n"
     ]
    }
   ],
   "source": [
    "# Calculate the MSE\n",
    "mse = mean_squared_error(y_test, y_pred)\n",
    "print(mse)"
   ]
  },
  {
   "cell_type": "code",
   "execution_count": 49,
   "id": "8372dfa0",
   "metadata": {
    "hidden": true
   },
   "outputs": [
    {
     "name": "stdout",
     "output_type": "stream",
     "text": [
      "0.7887122390584898\n"
     ]
    }
   ],
   "source": [
    "# Calculate the R^2\n",
    "r2 = r2_score(y_test, y_pred)\n",
    "print(r2)"
   ]
  },
  {
   "cell_type": "code",
   "execution_count": 50,
   "id": "7d07a37a",
   "metadata": {
    "hidden": true
   },
   "outputs": [
    {
     "name": "stdout",
     "output_type": "stream",
     "text": [
      "34/34 [==============================] - 0s 458us/step\n"
     ]
    },
    {
     "data": {
      "image/png": "[encoded data removed]",
      "text/plain": [
       "<Figure size 400x600 with 1 Axes>"
      ]
     },
     "metadata": {
      "needs_background": "light"
     },
     "output_type": "display_data"
    }
   ],
   "source": [
    "## Plotting the regression values\n",
    "y_pred = model.predict(x_test)\n",
    "plt.figure(dpi=200, figsize = (2,3))\n",
    "plt.scatter(y_pred,y_test, color ='k')\n",
    "plt.xlabel('Predicted')\n",
    "plt.ylabel('Actual')\n",
    "plt.title('Actual vs Predicted')\n",
    "plt.xlim([0, 500])\n",
    "plt.ylim([0,500])\n",
    "plt.plot([0, 500],[0,500])\n",
    "plt.show()"
   ]
  },
  {
   "cell_type": "markdown",
   "id": "58715e3c",
   "metadata": {
    "heading_collapsed": true
   },
   "source": [
    "# 2b: Using a random SUBSET of the four continuous variables in the dataset to build a model to predict the CO2 emission."
   ]
  },
  {
   "cell_type": "markdown",
   "id": "c323f542",
   "metadata": {
    "hidden": true
   },
   "source": [
    "Here a multivarate model is defimnes utilizing 3 subsets within the inital numerical continuous variable.\n",
    "\n",
    "FUELCONSUMPTION_CITY, FUELCONSUMPTION_HWY, and FUELCONSUMPTION_COMB Continious variables is utilized to build a 2nd model"
   ]
  },
  {
   "cell_type": "code",
   "execution_count": 51,
   "id": "e38926d1",
   "metadata": {
    "hidden": true
   },
   "outputs": [
    {
     "name": "stdout",
     "output_type": "stream",
     "text": [
      "   FUELCONSUMPTION_CITY  FUELCONSUMPTION_HWY  FUELCONSUMPTION_COMB\n",
      "0                  10.9                  7.8                   9.5\n",
      "1                  10.0                  7.6                   8.9\n",
      "2                  11.6                  8.1                  10.0\n",
      "3                  14.8                 11.3                  13.2\n",
      "4                  13.2                 10.3                  11.9\n",
      "0    219\n",
      "1    205\n",
      "2    230\n",
      "3    304\n",
      "4    274\n",
      "Name: CO2 EMISSIONS, dtype: int64\n"
     ]
    }
   ],
   "source": [
    "x1=df[[\"FUELCONSUMPTION_CITY\",\"FUELCONSUMPTION_HWY\",\"FUELCONSUMPTION_COMB\"]] #predictor variables\n",
    "y1=df[\"CO2 EMISSIONS\"]#predictor variable\n",
    "print(x1.head())\n",
    "print(y1.head())"
   ]
  },
  {
   "cell_type": "code",
   "execution_count": 52,
   "id": "f26cdfe2",
   "metadata": {
    "hidden": true
   },
   "outputs": [],
   "source": [
    "#subsets part of the data test for training and testing randomnly\n",
    "x_train, x_test, y_train,y_test = train_test_split(x1,y1,test_size=0.2,random_state=42)"
   ]
  },
  {
   "cell_type": "code",
   "execution_count": 53,
   "id": "150c7697",
   "metadata": {
    "hidden": true
   },
   "outputs": [],
   "source": [
    "scaler = MinMaxScaler()\n",
    "x_train=scaler.fit_transform(x_train)\n",
    "x_test=scaler.fit_transform(x_test)"
   ]
  },
  {
   "cell_type": "code",
   "execution_count": 60,
   "id": "0bd00e1d",
   "metadata": {
    "hidden": true
   },
   "outputs": [],
   "source": [
    "# instantiating the model \n",
    "model2 = Sequential() \n",
    "model2.add(Dense(units=64,input_dim=(3), activation = 'relu')) \n",
    "model2.add(Dropout(0.2)) \n",
    "model2.add(Dense(units=64,activation='relu')) \n",
    "model2.add(Dense(units=1,activation = 'linear')) "
   ]
  },
  {
   "cell_type": "code",
   "execution_count": 61,
   "id": "9bc399f0",
   "metadata": {
    "hidden": true
   },
   "outputs": [
    {
     "name": "stdout",
     "output_type": "stream",
     "text": [
      "Model: \"sequential_6\"\n",
      "_________________________________________________________________\n",
      " Layer (type)                Output Shape              Param #   \n",
      "=================================================================\n",
      " dense_18 (Dense)            (None, 64)                256       \n",
      "                                                                 \n",
      " dropout_6 (Dropout)         (None, 64)                0         \n",
      "                                                                 \n",
      " dense_19 (Dense)            (None, 64)                4160      \n",
      "                                                                 \n",
      " dense_20 (Dense)            (None, 1)                 65        \n",
      "                                                                 \n",
      "=================================================================\n",
      "Total params: 4,481\n",
      "Trainable params: 4,481\n",
      "Non-trainable params: 0\n",
      "_________________________________________________________________\n"
     ]
    }
   ],
   "source": [
    "model2.summary()"
   ]
  },
  {
   "cell_type": "code",
   "execution_count": 65,
   "id": "6c9bfad4",
   "metadata": {
    "hidden": true
   },
   "outputs": [],
   "source": [
    "model2.compile(optimizer='adam', loss='mean_squared_error', metrics='mean_squared_error') "
   ]
  },
  {
   "cell_type": "code",
   "execution_count": 66,
   "id": "d2de8002",
   "metadata": {
    "hidden": true
   },
   "outputs": [
    {
     "name": "stdout",
     "output_type": "stream",
     "text": [
      "Epoch 1/10\n",
      "121/121 [==============================] - 1s 2ms/step - loss: 72918.2422 - mean_squared_error: 72918.2422 - val_loss: 62301.7031 - val_mean_squared_error: 62301.7031\n",
      "Epoch 2/10\n",
      "121/121 [==============================] - 0s 1ms/step - loss: 38515.2891 - mean_squared_error: 38515.2891 - val_loss: 10909.4717 - val_mean_squared_error: 10909.4717\n",
      "Epoch 3/10\n",
      "121/121 [==============================] - 0s 1ms/step - loss: 3376.7603 - mean_squared_error: 3376.7603 - val_loss: 886.1216 - val_mean_squared_error: 886.1216\n",
      "Epoch 4/10\n",
      "121/121 [==============================] - 0s 1ms/step - loss: 1566.8484 - mean_squared_error: 1566.8484 - val_loss: 865.6645 - val_mean_squared_error: 865.6645\n",
      "Epoch 5/10\n",
      "121/121 [==============================] - 0s 1ms/step - loss: 1521.7518 - mean_squared_error: 1521.7518 - val_loss: 871.4703 - val_mean_squared_error: 871.4703\n",
      "Epoch 6/10\n",
      "121/121 [==============================] - 0s 1ms/step - loss: 1457.6370 - mean_squared_error: 1457.6370 - val_loss: 841.8802 - val_mean_squared_error: 841.8802\n",
      "Epoch 7/10\n",
      "121/121 [==============================] - 0s 1ms/step - loss: 1416.2247 - mean_squared_error: 1416.2247 - val_loss: 823.3622 - val_mean_squared_error: 823.3622\n",
      "Epoch 8/10\n",
      "121/121 [==============================] - 0s 1ms/step - loss: 1385.3717 - mean_squared_error: 1385.3717 - val_loss: 838.8479 - val_mean_squared_error: 838.8479\n",
      "Epoch 9/10\n",
      "121/121 [==============================] - 0s 1ms/step - loss: 1354.9192 - mean_squared_error: 1354.9192 - val_loss: 817.1458 - val_mean_squared_error: 817.1458\n",
      "Epoch 10/10\n",
      "121/121 [==============================] - 0s 1ms/step - loss: 1462.0852 - mean_squared_error: 1462.0852 - val_loss: 805.3527 - val_mean_squared_error: 805.3527\n"
     ]
    }
   ],
   "source": [
    "#the fit method is used to train a model using a given dataset, used on supervised learning algorithm\n",
    "SubSet=model2.fit(x=x_train,y=y_train,batch_size=None,epochs=10,verbose='auto',validation_split=0.1,callbacks=[early_stopping])"
   ]
  },
  {
   "cell_type": "markdown",
   "id": "9ec05a6e",
   "metadata": {
    "hidden": true
   },
   "source": [
    "**Model2 Evaluation**"
   ]
  },
  {
   "cell_type": "code",
   "execution_count": 70,
   "id": "f16da056",
   "metadata": {
    "hidden": true
   },
   "outputs": [
    {
     "data": {
      "image/png": "[encoded data removed]",
      "text/plain": [
       "<Figure size 400x600 with 1 Axes>"
      ]
     },
     "metadata": {
      "needs_background": "light"
     },
     "output_type": "display_data"
    }
   ],
   "source": [
    "## checking for overfitting  \n",
    "history_df = pd.DataFrame(SubSet.history) \n",
    "plt.figure(figsize = (2,3),dpi=200) \n",
    "plt.plot(history_df['loss'], label='training_loss') \n",
    "plt.plot(history_df['val_loss'], label='val_loss') \n",
    "plt.legend() \n",
    "plt.show()"
   ]
  },
  {
   "cell_type": "code",
   "execution_count": 71,
   "id": "b92c3c64",
   "metadata": {
    "hidden": true
   },
   "outputs": [],
   "source": [
    "#THIS INDICATES THAT THE MODEL DOES NOT OVERFIT"
   ]
  },
  {
   "cell_type": "code",
   "execution_count": 73,
   "id": "b87ea344",
   "metadata": {
    "hidden": true
   },
   "outputs": [
    {
     "name": "stdout",
     "output_type": "stream",
     "text": [
      "34/34 [==============================] - 0s 766us/step - loss: 967.2466 - mean_squared_error: 967.2466\n"
     ]
    }
   ],
   "source": [
    "## Evaluation on the test data \n",
    "test_loss, test_acc = model2.evaluate(x_test,y_test)"
   ]
  },
  {
   "cell_type": "code",
   "execution_count": 74,
   "id": "01f0c3ce",
   "metadata": {
    "hidden": true
   },
   "outputs": [
    {
     "name": "stdout",
     "output_type": "stream",
     "text": [
      "Test loss: 967.24658203125\n",
      "Test accuracy: 967.24658203125\n"
     ]
    }
   ],
   "source": [
    "# Print the test loss and accuracy\n",
    "print('Test loss:', test_loss)\n",
    "print('Test accuracy:', test_acc)"
   ]
  },
  {
   "cell_type": "code",
   "execution_count": 76,
   "id": "78abc245",
   "metadata": {
    "hidden": true
   },
   "outputs": [
    {
     "name": "stdout",
     "output_type": "stream",
     "text": [
      "34/34 [==============================] - 0s 354us/step\n"
     ]
    }
   ],
   "source": [
    "# Make predictions on the data\n",
    "y_pred = predictions = model2.predict(x_test)"
   ]
  },
  {
   "cell_type": "code",
   "execution_count": 77,
   "id": "d85cd371",
   "metadata": {
    "hidden": true
   },
   "outputs": [
    {
     "name": "stdout",
     "output_type": "stream",
     "text": [
      "tf.Tensor([8529.942  4165.502  4855.401  ... 4197.9766 5778.3535 4684.9907], shape=(1072,), dtype=float32)\n"
     ]
    }
   ],
   "source": [
    "# Calculate the MSE\n",
    "mse = mean_squared_error(y_test, y_pred)\n",
    "print(mse)"
   ]
  },
  {
   "cell_type": "code",
   "execution_count": 78,
   "id": "4daf3315",
   "metadata": {
    "hidden": true
   },
   "outputs": [
    {
     "name": "stdout",
     "output_type": "stream",
     "text": [
      "0.7646685332348426\n"
     ]
    }
   ],
   "source": [
    "# Calculate the R^2\n",
    "r2 = r2_score(y_test, y_pred)\n",
    "print(r2)"
   ]
  },
  {
   "cell_type": "code",
   "execution_count": 79,
   "id": "c641605c",
   "metadata": {
    "hidden": true
   },
   "outputs": [
    {
     "name": "stdout",
     "output_type": "stream",
     "text": [
      "34/34 [==============================] - 0s 482us/step\n"
     ]
    },
    {
     "data": {
      "image/png": "[encoded data removed]",
      "text/plain": [
       "<Figure size 400x600 with 1 Axes>"
      ]
     },
     "metadata": {
      "needs_background": "light"
     },
     "output_type": "display_data"
    }
   ],
   "source": [
    "## Plotting the regression values\n",
    "y_pred = model2.predict(x_test)\n",
    "plt.figure(dpi=200, figsize = (2,3))\n",
    "plt.scatter(y_pred,y_test, color ='k')\n",
    "plt.xlabel('Predicted')\n",
    "plt.ylabel('Actual')\n",
    "plt.title('Actual vs Predicted')\n",
    "plt.xlim([0, 500])\n",
    "plt.ylim([0,500])\n",
    "plt.plot([0, 500],[0,500])\n",
    "plt.show()"
   ]
  },
  {
   "cell_type": "markdown",
   "id": "3cf4d7c3",
   "metadata": {
    "heading_collapsed": true
   },
   "source": [
    "# 3: Determine whether there were any noticeable improvements in the CO2 emission from year 2010 to year 2014?"
   ]
  },
  {
   "cell_type": "code",
   "execution_count": 80,
   "id": "0d9a595b",
   "metadata": {
    "hidden": true
   },
   "outputs": [],
   "source": [
    "corr = df['MODELYEAR'].corr(df['CO2 EMISSIONS'])"
   ]
  },
  {
   "cell_type": "code",
   "execution_count": 81,
   "id": "2c224210",
   "metadata": {
    "hidden": true
   },
   "outputs": [
    {
     "name": "stdout",
     "output_type": "stream",
     "text": [
      "-0.12652454064157603\n"
     ]
    }
   ],
   "source": [
    "print(corr)"
   ]
  },
  {
   "cell_type": "markdown",
   "id": "8e606bf2",
   "metadata": {
    "hidden": true
   },
   "source": [
    "From the table above. The Co2 Emissions is inversely correlated in value to the model Year with a magnitude of - 0.126525. This indicates that the CO2 emissions is getting smaller, hence an improvement as the years proceeded from 2010 to 2014 within the data."
   ]
  },
  {
   "cell_type": "code",
   "execution_count": 82,
   "id": "b85c0585",
   "metadata": {
    "hidden": true
   },
   "outputs": [
    {
     "data": {
      "text/html": [
       "<div>\n",
       "<style scoped>\n",
       "    .dataframe tbody tr th:only-of-type {\n",
       "        vertical-align: middle;\n",
       "    }\n",
       "\n",
       "    .dataframe tbody tr th {\n",
       "        vertical-align: top;\n",
       "    }\n",
       "\n",
       "    .dataframe thead th {\n",
       "        text-align: right;\n",
       "    }\n",
       "</style>\n",
       "<table border=\"1\" class=\"dataframe\">\n",
       "  <thead>\n",
       "    <tr style=\"text-align: right;\">\n",
       "      <th></th>\n",
       "      <th>MODELYEAR</th>\n",
       "      <th>ENGINESIZE</th>\n",
       "      <th>CYLINDERS</th>\n",
       "      <th>FUELCONSUMPTION_CITY</th>\n",
       "      <th>FUELCONSUMPTION_HWY</th>\n",
       "      <th>FUELCONSUMPTION_COMB</th>\n",
       "      <th>FUELCONSUMPTION_COMB_M</th>\n",
       "      <th>CO2 EMISSIONS</th>\n",
       "    </tr>\n",
       "  </thead>\n",
       "  <tbody>\n",
       "    <tr>\n",
       "      <th>MODELYEAR</th>\n",
       "      <td>1.000000</td>\n",
       "      <td>-0.059026</td>\n",
       "      <td>-0.056762</td>\n",
       "      <td>-0.089863</td>\n",
       "      <td>-0.101831</td>\n",
       "      <td>-0.094261</td>\n",
       "      <td>0.125379</td>\n",
       "      <td>-0.126525</td>\n",
       "    </tr>\n",
       "    <tr>\n",
       "      <th>ENGINESIZE</th>\n",
       "      <td>-0.059026</td>\n",
       "      <td>1.000000</td>\n",
       "      <td>0.917291</td>\n",
       "      <td>0.815753</td>\n",
       "      <td>0.771050</td>\n",
       "      <td>0.806126</td>\n",
       "      <td>-0.803472</td>\n",
       "      <td>0.857052</td>\n",
       "    </tr>\n",
       "    <tr>\n",
       "      <th>CYLINDERS</th>\n",
       "      <td>-0.056762</td>\n",
       "      <td>0.917291</td>\n",
       "      <td>1.000000</td>\n",
       "      <td>0.784184</td>\n",
       "      <td>0.716811</td>\n",
       "      <td>0.766065</td>\n",
       "      <td>-0.754037</td>\n",
       "      <td>0.840469</td>\n",
       "    </tr>\n",
       "    <tr>\n",
       "      <th>FUELCONSUMPTION_CITY</th>\n",
       "      <td>-0.089863</td>\n",
       "      <td>0.815753</td>\n",
       "      <td>0.784184</td>\n",
       "      <td>1.000000</td>\n",
       "      <td>0.965417</td>\n",
       "      <td>0.995566</td>\n",
       "      <td>-0.932240</td>\n",
       "      <td>0.891427</td>\n",
       "    </tr>\n",
       "    <tr>\n",
       "      <th>FUELCONSUMPTION_HWY</th>\n",
       "      <td>-0.101831</td>\n",
       "      <td>0.771050</td>\n",
       "      <td>0.716811</td>\n",
       "      <td>0.965417</td>\n",
       "      <td>1.000000</td>\n",
       "      <td>0.985518</td>\n",
       "      <td>-0.895407</td>\n",
       "      <td>0.855552</td>\n",
       "    </tr>\n",
       "    <tr>\n",
       "      <th>FUELCONSUMPTION_COMB</th>\n",
       "      <td>-0.094261</td>\n",
       "      <td>0.806126</td>\n",
       "      <td>0.766065</td>\n",
       "      <td>0.995566</td>\n",
       "      <td>0.985518</td>\n",
       "      <td>1.000000</td>\n",
       "      <td>-0.926282</td>\n",
       "      <td>0.885359</td>\n",
       "    </tr>\n",
       "    <tr>\n",
       "      <th>FUELCONSUMPTION_COMB_M</th>\n",
       "      <td>0.125379</td>\n",
       "      <td>-0.803472</td>\n",
       "      <td>-0.754037</td>\n",
       "      <td>-0.932240</td>\n",
       "      <td>-0.895407</td>\n",
       "      <td>-0.926282</td>\n",
       "      <td>1.000000</td>\n",
       "      <td>-0.897255</td>\n",
       "    </tr>\n",
       "    <tr>\n",
       "      <th>CO2 EMISSIONS</th>\n",
       "      <td>-0.126525</td>\n",
       "      <td>0.857052</td>\n",
       "      <td>0.840469</td>\n",
       "      <td>0.891427</td>\n",
       "      <td>0.855552</td>\n",
       "      <td>0.885359</td>\n",
       "      <td>-0.897255</td>\n",
       "      <td>1.000000</td>\n",
       "    </tr>\n",
       "  </tbody>\n",
       "</table>\n",
       "</div>"
      ],
      "text/plain": [
       "                        MODELYEAR  ENGINESIZE  CYLINDERS  \\\n",
       "MODELYEAR                1.000000   -0.059026  -0.056762   \n",
       "ENGINESIZE              -0.059026    1.000000   0.917291   \n",
       "CYLINDERS               -0.056762    0.917291   1.000000   \n",
       "FUELCONSUMPTION_CITY    -0.089863    0.815753   0.784184   \n",
       "FUELCONSUMPTION_HWY     -0.101831    0.771050   0.716811   \n",
       "FUELCONSUMPTION_COMB    -0.094261    0.806126   0.766065   \n",
       "FUELCONSUMPTION_COMB_M   0.125379   -0.803472  -0.754037   \n",
       "CO2 EMISSIONS           -0.126525    0.857052   0.840469   \n",
       "\n",
       "                        FUELCONSUMPTION_CITY  FUELCONSUMPTION_HWY  \\\n",
       "MODELYEAR                          -0.089863            -0.101831   \n",
       "ENGINESIZE                          0.815753             0.771050   \n",
       "CYLINDERS                           0.784184             0.716811   \n",
       "FUELCONSUMPTION_CITY                1.000000             0.965417   \n",
       "FUELCONSUMPTION_HWY                 0.965417             1.000000   \n",
       "FUELCONSUMPTION_COMB                0.995566             0.985518   \n",
       "FUELCONSUMPTION_COMB_M             -0.932240            -0.895407   \n",
       "CO2 EMISSIONS                       0.891427             0.855552   \n",
       "\n",
       "                        FUELCONSUMPTION_COMB  FUELCONSUMPTION_COMB_M  \\\n",
       "MODELYEAR                          -0.094261                0.125379   \n",
       "ENGINESIZE                          0.806126               -0.803472   \n",
       "CYLINDERS                           0.766065               -0.754037   \n",
       "FUELCONSUMPTION_CITY                0.995566               -0.932240   \n",
       "FUELCONSUMPTION_HWY                 0.985518               -0.895407   \n",
       "FUELCONSUMPTION_COMB                1.000000               -0.926282   \n",
       "FUELCONSUMPTION_COMB_M             -0.926282                1.000000   \n",
       "CO2 EMISSIONS                       0.885359               -0.897255   \n",
       "\n",
       "                        CO2 EMISSIONS  \n",
       "MODELYEAR                   -0.126525  \n",
       "ENGINESIZE                   0.857052  \n",
       "CYLINDERS                    0.840469  \n",
       "FUELCONSUMPTION_CITY         0.891427  \n",
       "FUELCONSUMPTION_HWY          0.855552  \n",
       "FUELCONSUMPTION_COMB         0.885359  \n",
       "FUELCONSUMPTION_COMB_M      -0.897255  \n",
       "CO2 EMISSIONS                1.000000  "
      ]
     },
     "execution_count": 82,
     "metadata": {},
     "output_type": "execute_result"
    }
   ],
   "source": [
    "df.corr()"
   ]
  },
  {
   "cell_type": "code",
   "execution_count": 85,
   "id": "8cbf85ca",
   "metadata": {
    "hidden": true
   },
   "outputs": [],
   "source": [
    "Y = df['CO2 EMISSIONS']\n",
    "X = df['MODELYEAR']"
   ]
  },
  {
   "cell_type": "code",
   "execution_count": 92,
   "id": "7ef73a7b",
   "metadata": {
    "hidden": true
   },
   "outputs": [
    {
     "data": {
      "text/plain": [
       "Text(0, 0.5, 'CO2 EMISSION')"
      ]
     },
     "execution_count": 92,
     "metadata": {},
     "output_type": "execute_result"
    },
    {
     "data": {
      "image/png": "[encoded data removed]",
      "text/plain": [
       "<Figure size 432x288 with 1 Axes>"
      ]
     },
     "metadata": {
      "needs_background": "light"
     },
     "output_type": "display_data"
    }
   ],
   "source": [
    "# Plot the histogram\n",
    "plt.plot(X, Y)\n",
    "plt.title('Histogram of CO2 EMISSIONS FOR YEARS 2010 TO 2014')\n",
    "plt.xlabel('YEARS')\n",
    "plt.ylabel('CO2 EMISSION')"
   ]
  },
  {
   "cell_type": "markdown",
   "id": "01a05bc3",
   "metadata": {
    "hidden": true
   },
   "source": [
    "**The line plot above also shows that emissions are reducing through the years which indicates improvement in C02 emissions**"
   ]
  },
  {
   "cell_type": "markdown",
   "id": "57e195eb",
   "metadata": {
    "heading_collapsed": true
   },
   "source": [
    "# 4: Using  each  categorical  variable  as  the  target  variable  at  each  instance,  determine which  of  the  variables  performed  best  in  classifying  the  dataset"
   ]
  },
  {
   "cell_type": "code",
   "execution_count": 11,
   "id": "a9fb7f9a",
   "metadata": {
    "hidden": true
   },
   "outputs": [],
   "source": [
    "import pandas as pd\n",
    "import numpy as np\n",
    "import seaborn as sns\n",
    "import matplotlib.pyplot as plt\n",
    "df = pd.read_csv(\"Fuel Consumption Ratings.csv\")"
   ]
  },
  {
   "cell_type": "code",
   "execution_count": 12,
   "id": "2f7f284d",
   "metadata": {
    "hidden": true
   },
   "outputs": [],
   "source": [
    "import sklearn\n",
    "from sklearn.datasets import make_circles\n",
    "from sklearn.metrics import accuracy_score\n",
    "from sklearn.metrics import precision_score\n",
    "from sklearn.metrics import recall_score\n",
    "from sklearn.metrics import f1_score\n",
    "from sklearn.metrics import cohen_kappa_score\n",
    "from sklearn.metrics import roc_auc_score\n",
    "from sklearn.metrics import confusion_matrix\n",
    "from sklearn.model_selection import train_test_split \n",
    "from sklearn.preprocessing import MinMaxScaler \n",
    "from keras.models import Sequential # The model class is sequentially arranged\n",
    "from keras.layers import Dense, Dropout #Dense indicates fully connected networks\n",
    "from keras.losses import mean_squared_error #loss\n",
    "from keras.metrics import mean_squared_error #Evaluate metrics\n",
    "from sklearn.metrics import r2_score"
   ]
  },
  {
   "cell_type": "code",
   "execution_count": 13,
   "id": "2dbec70d",
   "metadata": {
    "hidden": true
   },
   "outputs": [],
   "source": [
    "from keras.losses import categorical_crossentropy, sparse_categorical_crossentropy\n",
    "from keras.metrics import accuracy\n",
    "from sklearn.preprocessing import OneHotEncoder, LabelEncoder\n",
    "from keras.utils import to_categorical"
   ]
  },
  {
   "cell_type": "code",
   "execution_count": 14,
   "id": "2c7679fd",
   "metadata": {
    "hidden": true
   },
   "outputs": [
    {
     "name": "stdout",
     "output_type": "stream",
     "text": [
      "MODELYEAR                   int64\n",
      "MAKE                       object\n",
      "MODEL                      object\n",
      "VEHICLECLASS               object\n",
      "ENGINESIZE                float64\n",
      "CYLINDERS                   int64\n",
      "TRANSMISSION               object\n",
      "FUELTYPE                   object\n",
      "FUELCONSUMPTION_CITY      float64\n",
      "FUELCONSUMPTION_HWY       float64\n",
      "FUELCONSUMPTION_COMB      float64\n",
      "FUELCONSUMPTION_COMB_M      int64\n",
      "CO2 EMISSIONS               int64\n",
      "dtype: object\n"
     ]
    }
   ],
   "source": [
    "print(df.dtypes)\n"
   ]
  },
  {
   "cell_type": "code",
   "execution_count": 15,
   "id": "90ed748e",
   "metadata": {
    "hidden": true
   },
   "outputs": [],
   "source": [
    "df = df.drop(labels='MODEL', axis=1)"
   ]
  },
  {
   "cell_type": "code",
   "execution_count": 16,
   "id": "c39476b1",
   "metadata": {
    "hidden": true
   },
   "outputs": [
    {
     "name": "stdout",
     "output_type": "stream",
     "text": [
      "<class 'pandas.core.frame.DataFrame'>\n",
      "RangeIndex: 5359 entries, 0 to 5358\n",
      "Data columns (total 12 columns):\n",
      " #   Column                  Non-Null Count  Dtype  \n",
      "---  ------                  --------------  -----  \n",
      " 0   MODELYEAR               5359 non-null   int64  \n",
      " 1   MAKE                    5359 non-null   object \n",
      " 2   VEHICLECLASS            5359 non-null   object \n",
      " 3   ENGINESIZE              5359 non-null   float64\n",
      " 4   CYLINDERS               5359 non-null   int64  \n",
      " 5   TRANSMISSION            5359 non-null   object \n",
      " 6   FUELTYPE                5359 non-null   object \n",
      " 7   FUELCONSUMPTION_CITY    5359 non-null   float64\n",
      " 8   FUELCONSUMPTION_HWY     5359 non-null   float64\n",
      " 9   FUELCONSUMPTION_COMB    5359 non-null   float64\n",
      " 10  FUELCONSUMPTION_COMB_M  5359 non-null   int64  \n",
      " 11  CO2 EMISSIONS           5359 non-null   int64  \n",
      "dtypes: float64(4), int64(4), object(4)\n",
      "memory usage: 502.5+ KB\n"
     ]
    }
   ],
   "source": [
    "df.info() "
   ]
  },
  {
   "cell_type": "markdown",
   "id": "9b402d6e",
   "metadata": {
    "hidden": true
   },
   "source": [
    "**To answer the question above, we build a sequential model and iterate through the columns for colunm types= object (This indicates the categoritical variables, the inputs are run within a for loop and its performance indicators recorded for each categoritical variable choosen.**"
   ]
  },
  {
   "cell_type": "code",
   "execution_count": 52,
   "id": "e7e36b79",
   "metadata": {
    "collapsed": true,
    "hidden": true
   },
   "outputs": [
    {
     "name": "stdout",
     "output_type": "stream",
     "text": [
      "Epoch 1/30\n"
     ]
    },
    {
     "name": "stderr",
     "output_type": "stream",
     "text": [
      "C:\\Users\\732093\\AppData\\Roaming\\Python\\Python39\\site-packages\\sklearn\\preprocessing\\_label.py:116: DataConversionWarning: A column-vector y was passed when a 1d array was expected. Please change the shape of y to (n_samples, ), for example using ravel().\n",
      "  y = column_or_1d(y, warn=True)\n",
      "C:\\Users\\732093\\AppData\\Roaming\\Python\\Python39\\site-packages\\sklearn\\preprocessing\\_label.py:134: DataConversionWarning: A column-vector y was passed when a 1d array was expected. Please change the shape of y to (n_samples, ), for example using ravel().\n",
      "  y = column_or_1d(y, dtype=self.classes_.dtype, warn=True)\n"
     ]
    },
    {
     "name": "stdout",
     "output_type": "stream",
     "text": [
      "108/108 [==============================] - 1s 3ms/step - loss: 3.3878 - accuracy: 0.0863 - val_loss: 3.1994 - val_accuracy: 0.1096\n",
      "Epoch 2/30\n",
      "108/108 [==============================] - 0s 2ms/step - loss: 3.1786 - accuracy: 0.1070 - val_loss: 3.1255 - val_accuracy: 0.1212\n",
      "Epoch 3/30\n",
      "108/108 [==============================] - 0s 2ms/step - loss: 3.1254 - accuracy: 0.1111 - val_loss: 3.0872 - val_accuracy: 0.1072\n",
      "Epoch 4/30\n",
      "108/108 [==============================] - 0s 2ms/step - loss: 3.0981 - accuracy: 0.1105 - val_loss: 3.0570 - val_accuracy: 0.1329\n",
      "Epoch 5/30\n",
      "108/108 [==============================] - 0s 2ms/step - loss: 3.0733 - accuracy: 0.1158 - val_loss: 3.0566 - val_accuracy: 0.1259\n",
      "Epoch 6/30\n",
      "108/108 [==============================] - 0s 2ms/step - loss: 3.0566 - accuracy: 0.1190 - val_loss: 3.0248 - val_accuracy: 0.1399\n",
      "Epoch 7/30\n",
      "108/108 [==============================] - 0s 2ms/step - loss: 3.0248 - accuracy: 0.1231 - val_loss: 2.9923 - val_accuracy: 0.1469\n",
      "Epoch 8/30\n",
      "108/108 [==============================] - 0s 2ms/step - loss: 3.0038 - accuracy: 0.1286 - val_loss: 2.9643 - val_accuracy: 0.1503\n",
      "Epoch 9/30\n",
      "108/108 [==============================] - 0s 2ms/step - loss: 2.9778 - accuracy: 0.1324 - val_loss: 2.9688 - val_accuracy: 0.1527\n",
      "Epoch 10/30\n",
      "108/108 [==============================] - 0s 2ms/step - loss: 2.9249 - accuracy: 0.1420 - val_loss: 2.9309 - val_accuracy: 0.1457\n",
      "Epoch 11/30\n",
      "108/108 [==============================] - 0s 2ms/step - loss: 2.9018 - accuracy: 0.1470 - val_loss: 2.8955 - val_accuracy: 0.1748\n",
      "Epoch 12/30\n",
      "108/108 [==============================] - 0s 2ms/step - loss: 2.8674 - accuracy: 0.1560 - val_loss: 2.8713 - val_accuracy: 0.1702\n",
      "Epoch 13/30\n",
      "108/108 [==============================] - 0s 2ms/step - loss: 2.8523 - accuracy: 0.1487 - val_loss: 2.8505 - val_accuracy: 0.1702\n",
      "Epoch 14/30\n",
      "108/108 [==============================] - 0s 2ms/step - loss: 2.8346 - accuracy: 0.1613 - val_loss: 2.8547 - val_accuracy: 0.1585\n",
      "Epoch 15/30\n",
      "108/108 [==============================] - 0s 2ms/step - loss: 2.8216 - accuracy: 0.1575 - val_loss: 2.8449 - val_accuracy: 0.1783\n",
      "Epoch 16/30\n",
      "108/108 [==============================] - 0s 2ms/step - loss: 2.8096 - accuracy: 0.1624 - val_loss: 2.8269 - val_accuracy: 0.1900\n",
      "Epoch 17/30\n",
      "108/108 [==============================] - 0s 2ms/step - loss: 2.7946 - accuracy: 0.1712 - val_loss: 2.8302 - val_accuracy: 0.1853\n",
      "Epoch 18/30\n",
      "108/108 [==============================] - 0s 2ms/step - loss: 2.7868 - accuracy: 0.1674 - val_loss: 2.8344 - val_accuracy: 0.1772\n",
      "Epoch 19/30\n",
      "108/108 [==============================] - 0s 2ms/step - loss: 2.7820 - accuracy: 0.1735 - val_loss: 2.8024 - val_accuracy: 0.1900\n",
      "Epoch 20/30\n",
      "108/108 [==============================] - 0s 2ms/step - loss: 2.7579 - accuracy: 0.1747 - val_loss: 2.7945 - val_accuracy: 0.1911\n",
      "Epoch 21/30\n",
      "108/108 [==============================] - 0s 2ms/step - loss: 2.7572 - accuracy: 0.1700 - val_loss: 2.8019 - val_accuracy: 0.1911\n",
      "Epoch 22/30\n",
      "108/108 [==============================] - 0s 2ms/step - loss: 2.7619 - accuracy: 0.1665 - val_loss: 2.7932 - val_accuracy: 0.1935\n",
      "Epoch 23/30\n",
      "108/108 [==============================] - 0s 2ms/step - loss: 2.7405 - accuracy: 0.1747 - val_loss: 2.7921 - val_accuracy: 0.1970\n",
      "Epoch 24/30\n",
      "108/108 [==============================] - 0s 1ms/step - loss: 2.7298 - accuracy: 0.1849 - val_loss: 2.7734 - val_accuracy: 0.1993\n",
      "Epoch 25/30\n",
      "108/108 [==============================] - 0s 2ms/step - loss: 2.7433 - accuracy: 0.1683 - val_loss: 2.7608 - val_accuracy: 0.2051\n",
      "Epoch 26/30\n",
      "108/108 [==============================] - 0s 2ms/step - loss: 2.7252 - accuracy: 0.1878 - val_loss: 2.7854 - val_accuracy: 0.1888\n",
      "Epoch 27/30\n",
      "108/108 [==============================] - 0s 2ms/step - loss: 2.7177 - accuracy: 0.1814 - val_loss: 2.7981 - val_accuracy: 0.2075\n",
      "Epoch 28/30\n",
      "108/108 [==============================] - 0s 2ms/step - loss: 2.7096 - accuracy: 0.1834 - val_loss: 2.7727 - val_accuracy: 0.2133\n",
      "Epoch 29/30\n",
      "108/108 [==============================] - 0s 2ms/step - loss: 2.7052 - accuracy: 0.1875 - val_loss: 2.7644 - val_accuracy: 0.2051\n",
      "Epoch 30/30\n",
      "108/108 [==============================] - 0s 2ms/step - loss: 2.7027 - accuracy: 0.1817 - val_loss: 2.7569 - val_accuracy: 0.2063\n",
      "34/34 [==============================] - 0s 765us/step\n",
      "34/34 - 0s - loss: 2.7184 - accuracy: 0.1772 - 36ms/epoch - 1ms/step\n",
      "Epoch 1/30\n"
     ]
    },
    {
     "name": "stderr",
     "output_type": "stream",
     "text": [
      "C:\\Users\\732093\\AppData\\Roaming\\Python\\Python39\\site-packages\\sklearn\\preprocessing\\_label.py:116: DataConversionWarning: A column-vector y was passed when a 1d array was expected. Please change the shape of y to (n_samples, ), for example using ravel().\n",
      "  y = column_or_1d(y, warn=True)\n",
      "C:\\Users\\732093\\AppData\\Roaming\\Python\\Python39\\site-packages\\sklearn\\preprocessing\\_label.py:134: DataConversionWarning: A column-vector y was passed when a 1d array was expected. Please change the shape of y to (n_samples, ), for example using ravel().\n",
      "  y = column_or_1d(y, dtype=self.classes_.dtype, warn=True)\n"
     ]
    },
    {
     "name": "stdout",
     "output_type": "stream",
     "text": [
      "108/108 [==============================] - 1s 3ms/step - loss: 2.4669 - accuracy: 0.1954 - val_loss: 2.2666 - val_accuracy: 0.2319\n",
      "Epoch 2/30\n",
      "108/108 [==============================] - 0s 2ms/step - loss: 2.3060 - accuracy: 0.2129 - val_loss: 2.2315 - val_accuracy: 0.2448\n",
      "Epoch 3/30\n",
      "108/108 [==============================] - 0s 2ms/step - loss: 2.2579 - accuracy: 0.2283 - val_loss: 2.2021 - val_accuracy: 0.2564\n",
      "Epoch 4/30\n",
      "108/108 [==============================] - 0s 2ms/step - loss: 2.2096 - accuracy: 0.2394 - val_loss: 2.1522 - val_accuracy: 0.2657\n",
      "Epoch 5/30\n",
      "108/108 [==============================] - 0s 2ms/step - loss: 2.1602 - accuracy: 0.2520 - val_loss: 2.0930 - val_accuracy: 0.2716\n",
      "Epoch 6/30\n",
      "108/108 [==============================] - 0s 2ms/step - loss: 2.1088 - accuracy: 0.2695 - val_loss: 2.0507 - val_accuracy: 0.2739\n",
      "Epoch 7/30\n",
      "108/108 [==============================] - 0s 2ms/step - loss: 2.0826 - accuracy: 0.2718 - val_loss: 2.0473 - val_accuracy: 0.2669\n",
      "Epoch 8/30\n",
      "108/108 [==============================] - 0s 2ms/step - loss: 2.0762 - accuracy: 0.2695 - val_loss: 2.0263 - val_accuracy: 0.2902\n",
      "Epoch 9/30\n",
      "108/108 [==============================] - 0s 2ms/step - loss: 2.0477 - accuracy: 0.2782 - val_loss: 2.0178 - val_accuracy: 0.2809\n",
      "Epoch 10/30\n",
      "108/108 [==============================] - 0s 2ms/step - loss: 2.0615 - accuracy: 0.2747 - val_loss: 2.0196 - val_accuracy: 0.2925\n",
      "Epoch 11/30\n",
      "108/108 [==============================] - 0s 2ms/step - loss: 2.0391 - accuracy: 0.2753 - val_loss: 2.0075 - val_accuracy: 0.2681\n",
      "Epoch 12/30\n",
      "108/108 [==============================] - 0s 2ms/step - loss: 2.0284 - accuracy: 0.2887 - val_loss: 2.0074 - val_accuracy: 0.2751\n",
      "Epoch 13/30\n",
      "108/108 [==============================] - 0s 2ms/step - loss: 2.0198 - accuracy: 0.2773 - val_loss: 1.9984 - val_accuracy: 0.2751\n",
      "Epoch 14/30\n",
      "108/108 [==============================] - 0s 2ms/step - loss: 2.0081 - accuracy: 0.2814 - val_loss: 1.9810 - val_accuracy: 0.2774\n",
      "Epoch 15/30\n",
      "108/108 [==============================] - 0s 2ms/step - loss: 2.0103 - accuracy: 0.2875 - val_loss: 1.9800 - val_accuracy: 0.2890\n",
      "Epoch 16/30\n",
      "108/108 [==============================] - 0s 2ms/step - loss: 2.0019 - accuracy: 0.2916 - val_loss: 1.9895 - val_accuracy: 0.2774\n",
      "Epoch 17/30\n",
      "108/108 [==============================] - 0s 2ms/step - loss: 2.0054 - accuracy: 0.2861 - val_loss: 1.9743 - val_accuracy: 0.2937\n",
      "Epoch 18/30\n",
      "108/108 [==============================] - 0s 2ms/step - loss: 2.0062 - accuracy: 0.2919 - val_loss: 1.9718 - val_accuracy: 0.2960\n",
      "Epoch 19/30\n",
      "108/108 [==============================] - 0s 2ms/step - loss: 1.9976 - accuracy: 0.2972 - val_loss: 1.9656 - val_accuracy: 0.3007\n",
      "Epoch 20/30\n",
      "108/108 [==============================] - 0s 2ms/step - loss: 1.9918 - accuracy: 0.2969 - val_loss: 1.9644 - val_accuracy: 0.2832\n",
      "Epoch 21/30\n",
      "108/108 [==============================] - 0s 1ms/step - loss: 1.9854 - accuracy: 0.2934 - val_loss: 1.9769 - val_accuracy: 0.2739\n",
      "Epoch 22/30\n",
      "108/108 [==============================] - 0s 2ms/step - loss: 1.9847 - accuracy: 0.2966 - val_loss: 1.9641 - val_accuracy: 0.2995\n",
      "Epoch 23/30\n",
      "108/108 [==============================] - 0s 3ms/step - loss: 1.9838 - accuracy: 0.3042 - val_loss: 1.9594 - val_accuracy: 0.2809\n",
      "Epoch 24/30\n",
      "108/108 [==============================] - 1s 7ms/step - loss: 1.9772 - accuracy: 0.2928 - val_loss: 1.9826 - val_accuracy: 0.3019\n",
      "Epoch 25/30\n",
      "108/108 [==============================] - 0s 2ms/step - loss: 1.9749 - accuracy: 0.2948 - val_loss: 1.9502 - val_accuracy: 0.2972\n",
      "Epoch 26/30\n",
      "108/108 [==============================] - 0s 2ms/step - loss: 1.9706 - accuracy: 0.2948 - val_loss: 1.9467 - val_accuracy: 0.3042\n",
      "Epoch 27/30\n",
      "108/108 [==============================] - 0s 2ms/step - loss: 1.9820 - accuracy: 0.2980 - val_loss: 1.9462 - val_accuracy: 0.3030\n",
      "Epoch 28/30\n",
      "108/108 [==============================] - 0s 2ms/step - loss: 1.9666 - accuracy: 0.2969 - val_loss: 1.9781 - val_accuracy: 0.2960\n",
      "Epoch 29/30\n",
      "108/108 [==============================] - 0s 2ms/step - loss: 1.9638 - accuracy: 0.3018 - val_loss: 1.9551 - val_accuracy: 0.2844\n",
      "Epoch 30/30\n",
      "108/108 [==============================] - 0s 2ms/step - loss: 1.9650 - accuracy: 0.3059 - val_loss: 1.9436 - val_accuracy: 0.2902\n",
      "34/34 [==============================] - 0s 807us/step\n",
      "34/34 - 0s - loss: 1.9673 - accuracy: 0.2845 - 43ms/epoch - 1ms/step\n",
      "Epoch 1/30\n"
     ]
    },
    {
     "name": "stderr",
     "output_type": "stream",
     "text": [
      "C:\\Users\\732093\\AppData\\Roaming\\Python\\Python39\\site-packages\\sklearn\\preprocessing\\_label.py:116: DataConversionWarning: A column-vector y was passed when a 1d array was expected. Please change the shape of y to (n_samples, ), for example using ravel().\n",
      "  y = column_or_1d(y, warn=True)\n",
      "C:\\Users\\732093\\AppData\\Roaming\\Python\\Python39\\site-packages\\sklearn\\preprocessing\\_label.py:134: DataConversionWarning: A column-vector y was passed when a 1d array was expected. Please change the shape of y to (n_samples, ), for example using ravel().\n",
      "  y = column_or_1d(y, dtype=self.classes_.dtype, warn=True)\n"
     ]
    },
    {
     "name": "stdout",
     "output_type": "stream",
     "text": [
      "108/108 [==============================] - 1s 4ms/step - loss: 2.4156 - accuracy: 0.2266 - val_loss: 2.2872 - val_accuracy: 0.2343\n",
      "Epoch 2/30\n",
      "108/108 [==============================] - 0s 2ms/step - loss: 2.2557 - accuracy: 0.2476 - val_loss: 2.2528 - val_accuracy: 0.2494\n",
      "Epoch 3/30\n",
      "108/108 [==============================] - 0s 2ms/step - loss: 2.2279 - accuracy: 0.2558 - val_loss: 2.2342 - val_accuracy: 0.2576\n",
      "Epoch 4/30\n",
      "108/108 [==============================] - 0s 1ms/step - loss: 2.2115 - accuracy: 0.2587 - val_loss: 2.2094 - val_accuracy: 0.2249\n",
      "Epoch 5/30\n",
      "108/108 [==============================] - 0s 2ms/step - loss: 2.1834 - accuracy: 0.2689 - val_loss: 2.1859 - val_accuracy: 0.2471\n",
      "Epoch 6/30\n",
      "108/108 [==============================] - 0s 2ms/step - loss: 2.1578 - accuracy: 0.2826 - val_loss: 2.1540 - val_accuracy: 0.2914\n",
      "Epoch 7/30\n",
      "108/108 [==============================] - 0s 2ms/step - loss: 2.1259 - accuracy: 0.2989 - val_loss: 2.1432 - val_accuracy: 0.2657\n",
      "Epoch 8/30\n",
      "108/108 [==============================] - 0s 2ms/step - loss: 2.1086 - accuracy: 0.3010 - val_loss: 2.1234 - val_accuracy: 0.2762\n",
      "Epoch 9/30\n",
      "108/108 [==============================] - 0s 2ms/step - loss: 2.1005 - accuracy: 0.2986 - val_loss: 2.1029 - val_accuracy: 0.3042\n",
      "Epoch 10/30\n",
      "108/108 [==============================] - 0s 2ms/step - loss: 2.0888 - accuracy: 0.3010 - val_loss: 2.1244 - val_accuracy: 0.2925\n",
      "Epoch 11/30\n",
      "108/108 [==============================] - 0s 2ms/step - loss: 2.0754 - accuracy: 0.3071 - val_loss: 2.1165 - val_accuracy: 0.2902\n",
      "Epoch 12/30\n",
      "108/108 [==============================] - 0s 2ms/step - loss: 2.0727 - accuracy: 0.3015 - val_loss: 2.0952 - val_accuracy: 0.2844\n",
      "Epoch 13/30\n",
      "108/108 [==============================] - 0s 2ms/step - loss: 2.0713 - accuracy: 0.3071 - val_loss: 2.0812 - val_accuracy: 0.2949\n",
      "Epoch 14/30\n",
      "108/108 [==============================] - 0s 1ms/step - loss: 2.0629 - accuracy: 0.3085 - val_loss: 2.0862 - val_accuracy: 0.2937\n",
      "Epoch 15/30\n",
      "108/108 [==============================] - 0s 2ms/step - loss: 2.0568 - accuracy: 0.3144 - val_loss: 2.1031 - val_accuracy: 0.2727\n",
      "Epoch 16/30\n",
      "108/108 [==============================] - 0s 2ms/step - loss: 2.0646 - accuracy: 0.3007 - val_loss: 2.0977 - val_accuracy: 0.2809\n",
      "Epoch 17/30\n",
      "108/108 [==============================] - 0s 1ms/step - loss: 2.0528 - accuracy: 0.3091 - val_loss: 2.0921 - val_accuracy: 0.2925\n",
      "Epoch 18/30\n",
      "108/108 [==============================] - 0s 2ms/step - loss: 2.0509 - accuracy: 0.3161 - val_loss: 2.1003 - val_accuracy: 0.2751\n",
      "Epoch 19/30\n",
      "108/108 [==============================] - 0s 2ms/step - loss: 2.0416 - accuracy: 0.3196 - val_loss: 2.0630 - val_accuracy: 0.2995\n",
      "Epoch 20/30\n",
      "108/108 [==============================] - 0s 1ms/step - loss: 2.0452 - accuracy: 0.3153 - val_loss: 2.0741 - val_accuracy: 0.3019\n",
      "Epoch 21/30\n",
      "108/108 [==============================] - 0s 1ms/step - loss: 2.0401 - accuracy: 0.3173 - val_loss: 2.0567 - val_accuracy: 0.2984\n",
      "Epoch 22/30\n",
      "108/108 [==============================] - 0s 2ms/step - loss: 2.0377 - accuracy: 0.3170 - val_loss: 2.0562 - val_accuracy: 0.2972\n",
      "Epoch 23/30\n",
      "108/108 [==============================] - 0s 2ms/step - loss: 2.0306 - accuracy: 0.3161 - val_loss: 2.0508 - val_accuracy: 0.3042\n",
      "Epoch 24/30\n",
      "108/108 [==============================] - 0s 2ms/step - loss: 2.0311 - accuracy: 0.3123 - val_loss: 2.0640 - val_accuracy: 0.2914\n",
      "Epoch 25/30\n",
      "108/108 [==============================] - 0s 2ms/step - loss: 2.0276 - accuracy: 0.3115 - val_loss: 2.0510 - val_accuracy: 0.3089\n",
      "Epoch 26/30\n",
      "108/108 [==============================] - 0s 2ms/step - loss: 2.0203 - accuracy: 0.3182 - val_loss: 2.0571 - val_accuracy: 0.3077\n",
      "Epoch 27/30\n",
      "108/108 [==============================] - 0s 2ms/step - loss: 2.0188 - accuracy: 0.3211 - val_loss: 2.0466 - val_accuracy: 0.3112\n",
      "Epoch 28/30\n",
      "108/108 [==============================] - 0s 2ms/step - loss: 2.0136 - accuracy: 0.3252 - val_loss: 2.0348 - val_accuracy: 0.2960\n",
      "Epoch 29/30\n",
      "108/108 [==============================] - 0s 1ms/step - loss: 2.0064 - accuracy: 0.3225 - val_loss: 2.0461 - val_accuracy: 0.2821\n",
      "Epoch 30/30\n",
      "108/108 [==============================] - 0s 2ms/step - loss: 2.0064 - accuracy: 0.3240 - val_loss: 2.0366 - val_accuracy: 0.3089\n",
      "34/34 [==============================] - 0s 803us/step\n",
      "34/34 - 0s - loss: 2.0804 - accuracy: 0.2994 - 39ms/epoch - 1ms/step\n",
      "Epoch 1/30\n"
     ]
    },
    {
     "name": "stderr",
     "output_type": "stream",
     "text": [
      "C:\\Users\\732093\\AppData\\Roaming\\Python\\Python39\\site-packages\\sklearn\\preprocessing\\_label.py:116: DataConversionWarning: A column-vector y was passed when a 1d array was expected. Please change the shape of y to (n_samples, ), for example using ravel().\n",
      "  y = column_or_1d(y, warn=True)\n",
      "C:\\Users\\732093\\AppData\\Roaming\\Python\\Python39\\site-packages\\sklearn\\preprocessing\\_label.py:134: DataConversionWarning: A column-vector y was passed when a 1d array was expected. Please change the shape of y to (n_samples, ), for example using ravel().\n",
      "  y = column_or_1d(y, dtype=self.classes_.dtype, warn=True)\n"
     ]
    },
    {
     "name": "stdout",
     "output_type": "stream",
     "text": [
      "108/108 [==============================] - 1s 3ms/step - loss: 0.9645 - accuracy: 0.5305 - val_loss: 0.8062 - val_accuracy: 0.6061\n",
      "Epoch 2/30\n",
      "108/108 [==============================] - 0s 2ms/step - loss: 0.8356 - accuracy: 0.5710 - val_loss: 0.8141 - val_accuracy: 0.5956\n",
      "Epoch 3/30\n",
      "108/108 [==============================] - 0s 2ms/step - loss: 0.8256 - accuracy: 0.5731 - val_loss: 0.7873 - val_accuracy: 0.6084\n",
      "Epoch 4/30\n",
      "108/108 [==============================] - 0s 1ms/step - loss: 0.8136 - accuracy: 0.5868 - val_loss: 0.7984 - val_accuracy: 0.6084\n",
      "Epoch 5/30\n",
      "108/108 [==============================] - 0s 2ms/step - loss: 0.8092 - accuracy: 0.5923 - val_loss: 0.7711 - val_accuracy: 0.6457\n",
      "Epoch 6/30\n",
      "108/108 [==============================] - 0s 2ms/step - loss: 0.7969 - accuracy: 0.6089 - val_loss: 0.7663 - val_accuracy: 0.6387\n",
      "Epoch 7/30\n",
      "108/108 [==============================] - 0s 2ms/step - loss: 0.7919 - accuracy: 0.6025 - val_loss: 0.7520 - val_accuracy: 0.6445\n",
      "Epoch 8/30\n",
      "108/108 [==============================] - 0s 2ms/step - loss: 0.7820 - accuracy: 0.6159 - val_loss: 0.7453 - val_accuracy: 0.6457\n",
      "Epoch 9/30\n",
      "108/108 [==============================] - 0s 2ms/step - loss: 0.7817 - accuracy: 0.6247 - val_loss: 0.7442 - val_accuracy: 0.6410\n",
      "Epoch 10/30\n",
      "108/108 [==============================] - 0s 2ms/step - loss: 0.7828 - accuracy: 0.6133 - val_loss: 0.7301 - val_accuracy: 0.6527\n",
      "Epoch 11/30\n",
      "108/108 [==============================] - 0s 2ms/step - loss: 0.7684 - accuracy: 0.6145 - val_loss: 0.7484 - val_accuracy: 0.6538\n",
      "Epoch 12/30\n",
      "108/108 [==============================] - 0s 2ms/step - loss: 0.7724 - accuracy: 0.6130 - val_loss: 0.7389 - val_accuracy: 0.6702\n",
      "Epoch 13/30\n",
      "108/108 [==============================] - 0s 2ms/step - loss: 0.7654 - accuracy: 0.6223 - val_loss: 0.7241 - val_accuracy: 0.6422\n",
      "Epoch 14/30\n",
      "108/108 [==============================] - 0s 2ms/step - loss: 0.7648 - accuracy: 0.6232 - val_loss: 0.7378 - val_accuracy: 0.6422\n",
      "Epoch 15/30\n",
      "108/108 [==============================] - 0s 2ms/step - loss: 0.7703 - accuracy: 0.6212 - val_loss: 0.7284 - val_accuracy: 0.6329\n",
      "Epoch 16/30\n",
      "108/108 [==============================] - 0s 1ms/step - loss: 0.7624 - accuracy: 0.6188 - val_loss: 0.7339 - val_accuracy: 0.6690\n",
      "Epoch 17/30\n",
      "108/108 [==============================] - 0s 2ms/step - loss: 0.7568 - accuracy: 0.6334 - val_loss: 0.7436 - val_accuracy: 0.6562\n",
      "Epoch 18/30\n",
      "108/108 [==============================] - 0s 1ms/step - loss: 0.7606 - accuracy: 0.6331 - val_loss: 0.7480 - val_accuracy: 0.6352\n",
      "Epoch 19/30\n",
      "108/108 [==============================] - 0s 2ms/step - loss: 0.7586 - accuracy: 0.6247 - val_loss: 0.7205 - val_accuracy: 0.6772\n",
      "Epoch 20/30\n",
      "108/108 [==============================] - 0s 1ms/step - loss: 0.7601 - accuracy: 0.6325 - val_loss: 0.7363 - val_accuracy: 0.6608\n",
      "Epoch 21/30\n",
      "108/108 [==============================] - 0s 2ms/step - loss: 0.7553 - accuracy: 0.6253 - val_loss: 0.7253 - val_accuracy: 0.6352\n",
      "Epoch 22/30\n",
      "108/108 [==============================] - 0s 2ms/step - loss: 0.7506 - accuracy: 0.6363 - val_loss: 0.7248 - val_accuracy: 0.6562\n",
      "Epoch 23/30\n",
      "108/108 [==============================] - 0s 2ms/step - loss: 0.7461 - accuracy: 0.6428 - val_loss: 0.7361 - val_accuracy: 0.6375\n",
      "Epoch 24/30\n",
      "108/108 [==============================] - 0s 2ms/step - loss: 0.7523 - accuracy: 0.6279 - val_loss: 0.7199 - val_accuracy: 0.6783\n",
      "Epoch 25/30\n",
      "108/108 [==============================] - 0s 2ms/step - loss: 0.7441 - accuracy: 0.6369 - val_loss: 0.7077 - val_accuracy: 0.6795\n",
      "Epoch 26/30\n",
      "108/108 [==============================] - 0s 2ms/step - loss: 0.7459 - accuracy: 0.6366 - val_loss: 0.7083 - val_accuracy: 0.6725\n",
      "Epoch 27/30\n",
      "108/108 [==============================] - 0s 2ms/step - loss: 0.7442 - accuracy: 0.6343 - val_loss: 0.7157 - val_accuracy: 0.6830\n",
      "Epoch 28/30\n",
      "108/108 [==============================] - 0s 2ms/step - loss: 0.7502 - accuracy: 0.6433 - val_loss: 0.7180 - val_accuracy: 0.6783\n",
      "Epoch 29/30\n",
      "108/108 [==============================] - 0s 2ms/step - loss: 0.7408 - accuracy: 0.6387 - val_loss: 0.7138 - val_accuracy: 0.6737\n",
      "Epoch 30/30\n",
      "108/108 [==============================] - 0s 2ms/step - loss: 0.7392 - accuracy: 0.6433 - val_loss: 0.7104 - val_accuracy: 0.6772\n",
      "34/34 [==============================] - 0s 1ms/step\n",
      "34/34 - 0s - loss: 0.7431 - accuracy: 0.6623 - 38ms/epoch - 1ms/step\n"
     ]
    },
    {
     "data": {
      "text/plain": [
       "{'MAKE': ['Test_loss=2.718357563018799', 'Test_Accuracy=0.1772388070821762'],\n",
       " 'VEHICLECLASS': ['Test_loss=1.967288613319397',\n",
       "  'Test_Accuracy=0.2845149338245392'],\n",
       " 'TRANSMISSION': ['Test_loss=2.080409288406372',\n",
       "  'Test_Accuracy=0.29944029450416565'],\n",
       " 'FUELTYPE': ['Test_loss=0.743067741394043',\n",
       "  'Test_Accuracy=0.6623134613037109']}"
      ]
     },
     "execution_count": 52,
     "metadata": {},
     "output_type": "execute_result"
    }
   ],
   "source": [
    "# Store the accuracy scores for each variable in a dictionary\n",
    "accuracy_scores = {}\n",
    "\n",
    "# Loop over the categorical variables\n",
    "for col in df.columns:\n",
    "    if df[col].dtype == 'object':\n",
    "        X = df[[\"FUELCONSUMPTION_CITY\",\"FUELCONSUMPTION_HWY\",\"FUELCONSUMPTION_COMB\",\"FUELCONSUMPTION_COMB_M\"]]\n",
    "        y = df[col]\n",
    "        y_true=y\n",
    "        X_train, X_test, y_train, y_test = train_test_split(X, y, test_size=0.2)\n",
    "        scaler = MinMaxScaler()\n",
    "        X_train=scaler.fit_transform(X_train)\n",
    "        X_test=scaler.transform(X_test)\n",
    "        model3 = Sequential()\n",
    "        #model3.add(Dense(units=64,input_shape = (len(df[col].unique()),),activation = 'relu')) # the input_shape of 2 corresponds to the predictor variables\n",
    "        model3.add(Dense(units=64,input_shape = (4,),activation = 'relu'))\n",
    "        model3.add(Dropout(0.2))\n",
    "        model3.add(Dense(units=256, activation = 'relu'))\n",
    "        model3.add(Dense(units=256, activation = 'relu'))\n",
    "        model3.add(Dense(units=(len(df[col].unique())),activation ='softmax'))\n",
    "        model3.compile(optimizer='adam',loss='categorical_crossentropy',metrics='accuracy')\n",
    "        # Reshaping is important for one hot encoding\n",
    "        y_train=y_train.values.reshape(-1,1)\n",
    "        y_test=y_test.values.reshape(-1,1)\n",
    "        # For integer encoding use sparse_categorical_crossentropy as the loss function\n",
    "        le = LabelEncoder()\n",
    "        y_train_le=le.fit_transform(y_train)\n",
    "        y_test_le=le.transform(y_test)\n",
    "        #One-hot encoding is a process used to convert categorical variables, which are variables that can take on a limited number of values, into a numerical representation that can be used in machine learning models           \n",
    "        ohe = OneHotEncoder()\n",
    "        y_train_ohe=ohe.fit_transform(y_train)\n",
    "        y_train_ohe=y_train_ohe.toarray()\n",
    "        y_test_ohe=ohe.transform(y_test)\n",
    "        y_test_ohe=y_test_ohe.toarray()\n",
    "        CatModel=model3.fit(X_train,y_train_ohe, epochs=30,validation_split=0.20)\n",
    "        #Evaluation\n",
    "        y_pred = predictions = model3.predict(X_test)\n",
    "        test_loss, test_acc = model3.evaluate(X_test, y_test_ohe, verbose=2)\n",
    "        accuracy_scores[col] = [\"Test_loss=\"+str(test_loss),\"Test_Accuracy=\"+str(test_acc)]\n",
    "accuracy_scores\n",
    "        \n",
    "               "
   ]
  },
  {
   "cell_type": "markdown",
   "id": "e65cecdb",
   "metadata": {
    "hidden": true
   },
   "source": [
    "**Determine which of  the variables  performed  best  in  classifying  the  dataset based on the Test loss and test accuracy of each inputed categoritical variable is tabled below is the FUELTYPE variable. It have the least Test loss and the MAX Test Accuracy** "
   ]
  },
  {
   "cell_type": "code",
   "execution_count": 50,
   "id": "20e6064f",
   "metadata": {
    "hidden": true
   },
   "outputs": [
    {
     "data": {
      "text/plain": [
       "{'MAKE': ['Test_loss=2.7520365715026855', 'Test_Accuracy=0.1735074669122696'],\n",
       " 'VEHICLECLASS': ['Test_loss=2.022200584411621',\n",
       "  'Test_Accuracy=0.2901119291782379'],\n",
       " 'TRANSMISSION': ['Test_loss=1.9697998762130737',\n",
       "  'Test_Accuracy=0.33208954334259033'],\n",
       " 'FUELTYPE': ['Test_loss=0.7379499077796936',\n",
       "  'Test_Accuracy=0.6436567306518555']}"
      ]
     },
     "execution_count": 50,
     "metadata": {},
     "output_type": "execute_result"
    }
   ],
   "source": [
    "accuracy_scores"
   ]
  },
  {
   "cell_type": "markdown",
   "id": "c55ff7eb",
   "metadata": {
    "heading_collapsed": true
   },
   "source": [
    "# 8: Use only the non-categorical variables to form groups. Using internal and external evaluation metrics, determine which categorical variable best describes the groups formed. "
   ]
  },
  {
   "cell_type": "code",
   "execution_count": 54,
   "id": "55ccb9e1",
   "metadata": {
    "hidden": true
   },
   "outputs": [
    {
     "name": "stderr",
     "output_type": "stream",
     "text": [
      "C:\\Users\\732093\\AppData\\Roaming\\Python\\Python39\\site-packages\\sklearn\\cluster\\_kmeans.py:870: FutureWarning: The default value of `n_init` will change from 10 to 'auto' in 1.4. Set the value of `n_init` explicitly to suppress the warning\n",
      "  warnings.warn(\n"
     ]
    },
    {
     "name": "stdout",
     "output_type": "stream",
     "text": [
      "Adjusted Rand score for MAKE: 0.021773230314777646\n",
      "Adjusted Rand score for MODEL: 0.003029715827743017\n",
      "Adjusted Rand score for VEHICLECLASS: 0.051529305597856186\n",
      "Adjusted Rand score for TRANSMISSION: 0.02449598846733752\n",
      "Adjusted Rand score for FUELTYPE: 0.0790536624828128\n"
     ]
    }
   ],
   "source": [
    "import pandas as pd\n",
    "from sklearn.cluster import KMeans\n",
    "from sklearn.preprocessing import StandardScaler\n",
    "from sklearn.metrics import silhouette_score, adjusted_rand_score\n",
    "\n",
    "# Load the data into a dataframe\n",
    "df = pd.read_csv(\"Fuel Consumption Ratings.csv\")\n",
    "\n",
    "# Select the non-categorical variables\n",
    "X = df[[\"FUELCONSUMPTION_CITY\",\"FUELCONSUMPTION_HWY\",\"FUELCONSUMPTION_COMB\",\"FUELCONSUMPTION_COMB_M\",\"CO2 EMISSIONS\"]]\n",
    "\n",
    "# Standardize the non-categorical variables\n",
    "scaler = StandardScaler()\n",
    "X_scaled = scaler.fit_transform(X)\n",
    "\n",
    "# Use k-means to form the groups\n",
    "kmeans = KMeans(n_clusters=3)\n",
    "kmeans.fit(X_scaled)\n",
    "\n",
    "# Calculate the silhouette score for the groups formed by k-means\n",
    "silhouette_score(X_scaled, kmeans.labels_)\n",
    "\n",
    "# Loop over each categorical variable\n",
    "for col in df.columns:\n",
    "    if df[col].dtype == 'object':\n",
    "        # Calculate the adjusted Rand score for the groups defined by the categorical variable\n",
    "        score = adjusted_rand_score(df[col], kmeans.labels_)\n",
    "        print(f'Adjusted Rand score for {col}: {score}')"
   ]
  },
  {
   "cell_type": "markdown",
   "id": "6e0f2de1",
   "metadata": {
    "hidden": true
   },
   "source": [
    "**The categorical variable with the highest adjusted Rand score is the one that best describes the groups formed by k-means which equals the FUELTYPE Categoritical variable**"
   ]
  },
  {
   "cell_type": "code",
   "execution_count": null,
   "id": "bef631fa",
   "metadata": {
    "hidden": true
   },
   "outputs": [],
   "source": []
  }
 ],
 "metadata": {
  "kernelspec": {
   "display_name": "Python 3 (ipykernel)",
   "language": "python",
   "name": "python3"
  },
  "language_info": {
   "codemirror_mode": {
    "name": "ipython",
    "version": 3
   },
   "file_extension": ".py",
   "mimetype": "text/x-python",
   "name": "python",
   "nbconvert_exporter": "python",
   "pygments_lexer": "ipython3",
   "version": "3.10.6"
  }
 },
 "nbformat": 4,
 "nbformat_minor": 5
}
